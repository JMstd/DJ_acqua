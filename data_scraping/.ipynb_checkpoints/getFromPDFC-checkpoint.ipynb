{
 "cells": [
  {
   "cell_type": "markdown",
   "metadata": {},
   "source": [
    "Qeusta prima parte serve ad estrarre una prima vaersione grezza dei dati dal pdf"
   ]
  },
  {
   "cell_type": "code",
   "execution_count": 1,
   "metadata": {},
   "outputs": [],
   "source": [
    "import json\n",
    "def coordinate():\n",
    "    nomiT = []    # dichiaro l'array links\n",
    "    dati=[]\n",
    "    \n",
    "    with open('coordinate-1.json') as json_file:\n",
    "        datiCoordinate = json.load(json_file)\n",
    "        #print(datiCoordinate)\n",
    "        dati = datiCoordinate\n",
    "        print(\"***************************\")\n",
    "\n",
    "        for nome in datiCoordinate:\n",
    "            #print(nome)\n",
    "        \n",
    "            nomiT.append(nome)    # metto i links recuperati da \"dataLinks\", in \"links\"  \n",
    "    #print(dati[nome][1])\n",
    "    \n",
    "    return(nomiT, dati)"
   ]
  },
  {
   "cell_type": "code",
   "execution_count": 2,
   "metadata": {},
   "outputs": [],
   "source": [
    "#coordinate() # dichiaro la mia funzione che mi restituisce le coordinate delle tavole con la pagina, da passare per l'estrazione\n",
    "#var = coordinate()\n",
    "#nomi= var[0]\n",
    "#cont= var[1]\n",
    "#i = 1 #un ciclo da 0 a len var[0] | var[1] anche se dovrebbero essere uguali\n",
    "#var[1][nomi[i]][0] #mi seleziona le coordinate \n",
    "#var[1][nomi[i]][1] #mi seleziona la pagina\n",
    "#var[0][i] #mi seleziona il nome tavola\n",
    "#var[0][4]"
   ]
  },
  {
   "cell_type": "markdown",
   "metadata": {},
   "source": [
    "sopra andrò ad importare il mio json con le coordinate\n",
    "\n",
    "Il tutto funziona, va ripulito scegliendo cosa mi serve e messo in un ciclo che mi guarda tutte le tavole che voglio"
   ]
  },
  {
   "cell_type": "code",
   "execution_count": 3,
   "metadata": {},
   "outputs": [],
   "source": [
    "#da saltare\n",
    "\n",
    "#var = coordinate()\n",
    "#for i in range(0, len(var[0])):\n",
    "#    print(var[1][var[0][i]][1])\n",
    "    "
   ]
  },
  {
   "cell_type": "code",
   "execution_count": 4,
   "metadata": {},
   "outputs": [
    {
     "name": "stdout",
     "output_type": "stream",
     "text": [
      "***************************\n"
     ]
    }
   ],
   "source": [
    "from tabula import read_pdf\n",
    "\n",
    "var = coordinate()\n",
    "df=[]\n",
    "\n",
    "for i in range(0, len(var[0])):\n",
    "    \n",
    "    # [top,left,bottom,width]\n",
    "    box = var[1][var[0][i]][0]\n",
    "    pagina = var[1][var[0][i]][1]\n",
    "\n",
    "    # fattore di conversione\n",
    "    fc = 28.28\n",
    "         \n",
    "    for j in range(0, len(box)):\n",
    "        box[j] /= 10\n",
    "        box[j] *= fc\n",
    "    \n",
    "    df.append(read_pdf(\"dati/Utilizzo-e-qualità-della-risorsa-idrica-in-Italia.pdf\", pages=pagina,area=[box],output_format=\"json\", stream=True))\n",
    "\n",
    "#df    #contiene tutte le tabelle\n",
    "\n",
    "#questo me lo stampa in una maniera più facilmente leggibile ad un umano"
   ]
  },
  {
   "cell_type": "code",
   "execution_count": null,
   "metadata": {
    "scrolled": false
   },
   "outputs": [],
   "source": [
    "#df"
   ]
  },
  {
   "cell_type": "markdown",
   "metadata": {},
   "source": [
    "La prima e la seconda riga per la mia prima tabellla almeno, corrispondono al titolo della tabella\n",
    "\n",
    "il codice commentato sotto, serve a visualizzare le singole righe con il rispettivo contenuto in testo"
   ]
  },
  {
   "cell_type": "code",
   "execution_count": null,
   "metadata": {},
   "outputs": [],
   "source": [
    "# prima colonna\n",
    "#df[0][0]['data'][0][0]['text'] \n",
    "# seconda colonna\n",
    "#df[0]['data'][1][0]['text']\n"
   ]
  },
  {
   "cell_type": "markdown",
   "metadata": {},
   "source": [
    "Crea la tabella con i miei dati"
   ]
  },
  {
   "cell_type": "code",
   "execution_count": null,
   "metadata": {},
   "outputs": [],
   "source": [
    "import re \n",
    "\n",
    "def tab_fin():\n",
    "    tab=[]\n",
    "#test=[]    --> INUTILE\n",
    "    fin=[]\n",
    "\n",
    "    nome_tab = re.findall(\"[A-Za-z]+\\s[0-9]+\\.[0-9]+\", table[0])  #contiene il nome tabella sul pdf es. Tavola 1.1\n",
    "    fonte_tab = table[len(df[1][0]['data'])-1]    #contiene la fonte della tab (es istat)\n",
    "\n",
    "    for i in range(1,len(table)):    #cicla partendo da uno, in modo da evitare il nome della tabella\n",
    "        x = re.findall(\"([A-Za-z]+\\s+)([0-9]+|.,[0-9]+)\", table[i])   #mi seleziona tutti i nomi (di regione) seguiti da numeri  \n",
    "    # forse la riga sopra va raffinata xke potrebbe dare problemi in tab he hanno nomi seguiti da numeri in righe che non sono la prima ma nemmeno le regioni\n",
    "    #ATT --> inoltre la RE --> ([A-Za-z]\\s+)([0-9]) presente sotto in y, dovrebbe fare la stessa cosa, alivello di utilità qui,\n",
    "    #quindi potrei acnhe sostituire questa con quella RE\n",
    "        if x:\n",
    "            tab.append(table[i])    #ora tab contien tutti i dati necessari estratti dal pdf, sono da riordinare\n",
    "\n",
    "    for j in range(0,len(tab)):\n",
    "    #([A-Za-z]\\s+)([0-9])    --> INUTILE\n",
    "    #Y=re.findall(\"([A-Za-z]\\s+)([0-9])\", tab[j])    --> INUTILE\n",
    "        y=re.search(\"([A-Za-z]\\s+)([0-9])\", tab[j])   #mi trova tutti i nomi delle regioni + gli spazi + il primo numero\n",
    "        if y:    # toglie il priomo numero dal nome delle regioni ma lascia gli spazi\n",
    "            val=y.span()   #trova l'estensione della parola\n",
    "            nome=tab[j][0:val[1]-1]   #contiene il nome della regione (della riga)\n",
    "            nr=tab[j].split(nome)     #contiene il valore della riga (+ uno spazio bianco iniziale che sotto viene omesso)\n",
    "        #test.append(nr[1])    --> INUTILE\n",
    "        #*********************************\n",
    "            riga_fin = str(nome)+\":\"+str(nr[1])\n",
    "        #fin.append(z)   #aggiunge il nome della regione    --> INUTILE\n",
    "        #fin.append(num)   #aggiunge i valori               --> INUTILE\n",
    "            fin.append(riga_fin)\n",
    "\n",
    "#fin.append(fonte_tab)    aggiunge la fonte alla tab, vedere come gestire la cosa\n",
    "\n",
    "    print(\"*************************\")\n",
    "#test                             --> INUTILE\n",
    "#ok    test.append(z)             --> INUTILE\n",
    "        #test.append(y.span())    --> INUTILE\n",
    "    return fin\n",
    "#test    --> INUTILE\n",
    "#tab   # già il risultato di tab lo posso dare in pasto ad openrefine e suddividere in colonne da li     --> INUTILE"
   ]
  },
  {
   "cell_type": "code",
   "execution_count": 5,
   "metadata": {},
   "outputs": [],
   "source": [
    "def export(x,y):\n",
    "    #x = nome_tab[0]\n",
    "    #y = fin\n",
    "    import json\n",
    "    import os\n",
    "    #if x == 0 or \"\" or None:\n",
    "        #x = mancante\n",
    "        #z = \"questa tabella ha dei problemi di esportazione\"\n",
    "        #with open(\"tab/\"+x+\".json\", \"w\") as outfile:\n",
    "            #json.dump(z, outfile, indent=3)\n",
    "        #print(\"tab problematica\")\n",
    "    #else:\n",
    "    with open(\"tab/\"+x[0]+\".json\", \"w\") as outfile:\n",
    "        json.dump(y, outfile, indent=3)\n",
    "    \n",
    "# il nome della tabella corrispode a quello sul pdf (Tavola *.*)\n",
    "# esporto tutto su openrefine e divido i nomi dai valori e poi uso la RE di seguito --> ([\"   \"]+|[\"  \"]+|[\" \"]+)\n",
    "# il risultato è la mia tabella corretta"
   ]
  },
  {
   "cell_type": "markdown",
   "metadata": {},
   "source": [
    "******************************************************************************************************************"
   ]
  },
  {
   "cell_type": "code",
   "execution_count": 6,
   "metadata": {},
   "outputs": [],
   "source": [
    "import re \n",
    "\n",
    "def tabella_grezza():\n",
    "    for j in range(0,len(df)):\n",
    "        table = []\n",
    "        for i in range(0,len(df[j][0]['data'])):\n",
    "            if df[j][0]['data']:\n",
    "                #for j in range(0, len(df[0][0]['data'][i][0]['text'])):\n",
    "                    riga = df[j][0]['data'][i][0]['text']\n",
    "                    table.append(riga)\n",
    "#qui devo inserire la parte tab_fin che crea la tabella definitiva \n",
    "#sotto va la parte che la esporta in un file \n",
    "#***************************************************************************************************************\n",
    "        tab=[]\n",
    "        fin=[]\n",
    "\n",
    "        nome_tab = re.findall(\"[A-Za-z]+\\s[0-9]+\\.[0-9]+\", table[0])  #contiene il nome tabella sul pdf es. Tavola 1.1\n",
    "        fonte_tab = table[len(df[j][0]['data'])-1]    #contiene la fonte della tab (es istat)\n",
    "\n",
    "        for i in range(1,len(table)):    #cicla partendo da uno, in modo da evitare il nome della tabella\n",
    "            x = re.findall(\"([A-Za-z]+\\s+)([0-9]+|.,[0-9]+)\", table[i])   #mi seleziona tutti i nomi (di regione) seguiti da numeri  \n",
    "            if x:\n",
    "                tab.append(table[i])    #ora tab contien tutti i dati necessari estratti dal pdf, sono da riordinare\n",
    "\n",
    "        for j in range(0,len(tab)):\n",
    "            y=re.search(\"([A-Za-z]\\s+)([0-9])\", tab[j])   #mi trova tutti i nomi delle regioni + gli spazi + il primo numero\n",
    "            if y:    # toglie il priomo numero dal nome delle regioni ma lascia gli spazi\n",
    "                val=y.span()   #trova l'estensione della parola\n",
    "                nome=tab[j][0:val[1]-1]   #contiene il nome della regione (della riga)\n",
    "                nr=tab[j].split(nome)     #contiene il valore della riga (+ uno spazio bianco iniziale che sotto viene omesso)\n",
    "        #*********************************\n",
    "                riga_fin = str(nome)+\":\"+str(nr[1])\n",
    "                fin.append(riga_fin)\n",
    "        print(\"*************************\")\n",
    "        print(nome_tab)\n",
    "#***************************************************************************************************************\n",
    "        export(nome_tab,fin)\n",
    "    return table"
   ]
  },
  {
   "cell_type": "code",
   "execution_count": 7,
   "metadata": {},
   "outputs": [
    {
     "name": "stdout",
     "output_type": "stream",
     "text": [
      "*************************\n",
      "['Tavola 1.1']\n",
      "*************************\n",
      "['Tavola 1.2']\n",
      "*************************\n",
      "['Tavola 1.5']\n",
      "*************************\n",
      "['Tavola 1.6']\n",
      "*************************\n",
      "['Tavola 1.8']\n",
      "*************************\n",
      "['Tavola 1.9']\n",
      "*************************\n",
      "['Tavola 1.10']\n",
      "*************************\n",
      "['Tavola 2.2']\n",
      "*************************\n",
      "['Tavola 3.2']\n"
     ]
    },
    {
     "data": {
      "text/plain": [
       "['Tavola 3.2 – Goal 6: indicatori diffusi da Istat in serie storica',\n",
       " 'Indicatori',\n",
       " '6.1.1 6.1.1 6.1.1 6.3.1',\n",
       " 'ANNI Famiglie che Famiglie che Acqua erogata Quota percentuale dei carichi',\n",
       " 'non si fidano di lamentano pro capite inquinanti confluiti in impianti',\n",
       " 'bere l’acqua del irregolarità (litri/ab/g) secondari o avanzati rispetto',\n",
       " 'rubinetto (%) nell’erogazione ai carichi complessivi urbani',\n",
       " 'di acqua (%) generati (%)',\n",
       " '2005 - - 250 53,5',\n",
       " '2008 - - 253 56,5',\n",
       " '2010 32,8 10,8 - -',\n",
       " '2011 30,0 9,4 - -',\n",
       " '2012 30,3 8,9 241 57,6',\n",
       " '2013 29,2 10,0 - -',\n",
       " '2014 28,0 8,7 - -',\n",
       " '2015 30,0 9,2 220 59,6',\n",
       " '2016 29,9 9,4 - -',\n",
       " '2017 29,1 10,1 - -',\n",
       " '2018 29,0 10,4 - -']"
      ]
     },
     "execution_count": 7,
     "metadata": {},
     "output_type": "execute_result"
    }
   ],
   "source": [
    "tabella_grezza()"
   ]
  },
  {
   "cell_type": "markdown",
   "metadata": {},
   "source": [
    "Non ha molto senso dividere il numero dalla regione qui visto che posso usare open refine \n",
    "inoltre per poterla fare qui, dovrei fare una RE specifica che mi riconosca i numeri fatti in una certa maniera\n",
    "\n",
    "a gruppi di tre, divisi da un punto, e l'ultimo gruppo diviso da una virgola, molto più facile far fare ad open refine \n",
    "\n"
   ]
  },
  {
   "cell_type": "code",
   "execution_count": null,
   "metadata": {},
   "outputs": [],
   "source": [
    "table[len(df[0]['data'])-1]"
   ]
  },
  {
   "cell_type": "code",
   "execution_count": null,
   "metadata": {},
   "outputs": [],
   "source": [
    "#ATT  non ha molto senso fare la divisione dei numeri qui xke posso usare openrefine\n",
    "# ATT PROBABILMENTE INUTILE DOVRO' CANCELLARE TUTTA LA CELLA\n",
    "\n",
    "import re \n",
    "\n",
    "tab=[]\n",
    "temp=[]\n",
    "\n",
    "for i in range(1,len(table)):\n",
    "    x = re.findall(\"([A-Za-z]+\\s+)([0-9]+|.,[0-9]+)\", table[i])\n",
    "    if x:\n",
    "        temp.append(table[i])\n",
    "        \n",
    "for j in range(0,len(temp)):\n",
    "    y = re.split(\"([0-9]+|.,[0-9]+\\s*)|(\\s-\\s)\", temp[j])\n",
    "    tab.append(y)\n",
    "\n",
    "        \n",
    "print(\"************************\")\n",
    "print(tab)\n",
    "print(\"************************\")"
   ]
  },
  {
   "cell_type": "markdown",
   "metadata": {},
   "source": [
    "*************************************************************************************"
   ]
  },
  {
   "cell_type": "code",
   "execution_count": null,
   "metadata": {},
   "outputs": [],
   "source": [
    "# elimino le colonne vuote\n",
    "table = []\n",
    "for i in range(0,len(df)):\n",
    "    riga = {}\n",
    "    riga['regione'] = regioni[i]\n",
    "    if df[i]['data']:\n",
    "        for j in range(0,len(df[i]['data'])):\n",
    "            primaColonna = df[i]['data'][j][0]['text']\n",
    "            if primaColonna != '' and primaColonna != '17 operatori sanitari' and primaColonna != \"Fascia d'età\":\n",
    "                if primaColonna == '&gt;90':\n",
    "                    primaColonna = '> 90'\n",
    "                secondaColonna = df[i]['data'][j][1]['text']\n",
    "                riga[primaColonna] = secondaColonna\n",
    "    table.append(riga)\n",
    "table "
   ]
  },
  {
   "cell_type": "code",
   "execution_count": null,
   "metadata": {},
   "outputs": [],
   "source": [
    "# salvo i risultati su file \n",
    "import csv\n",
    "nomi_colonne = table[0].keys()\n",
    "with open('dati-regioni-covid.csv', 'w') as output_file:\n",
    "    dict_writer = csv.DictWriter(output_file, nomi_colonne)\n",
    "    dict_writer.writeheader()\n",
    "    dict_writer.writerows(table)"
   ]
  },
  {
   "cell_type": "code",
   "execution_count": null,
   "metadata": {},
   "outputs": [],
   "source": []
  }
 ],
 "metadata": {
  "kernelspec": {
   "display_name": "Python 3",
   "language": "python",
   "name": "python3"
  },
  "language_info": {
   "codemirror_mode": {
    "name": "ipython",
    "version": 3
   },
   "file_extension": ".py",
   "mimetype": "text/x-python",
   "name": "python",
   "nbconvert_exporter": "python",
   "pygments_lexer": "ipython3",
   "version": "3.6.9"
  }
 },
 "nbformat": 4,
 "nbformat_minor": 4
}
