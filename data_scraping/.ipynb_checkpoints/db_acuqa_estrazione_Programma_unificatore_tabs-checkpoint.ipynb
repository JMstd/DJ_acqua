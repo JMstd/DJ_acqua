{
 "cells": [
  {
   "cell_type": "code",
   "execution_count": 1,
   "metadata": {},
   "outputs": [],
   "source": [
    "from selenium import webdriver                         # import the webdriver API \n",
    "from selenium.webdriver.common.keys import Keys        # import the keys of the keyboard such as RETURNS, F1, ALT, ...\n",
    "import re                                              # import regular expression\n",
    "\n",
    "from selenium.webdriver.common.by import By\n",
    "from selenium.webdriver.support.ui import WebDriverWait\n",
    "from selenium.webdriver.support import expected_conditions as EC\n",
    "\n",
    "\n",
    "from selenium.webdriver.chrome.options import Options\n",
    "chromeOptions = Options()  \n",
    "chromeOptions.add_argument(\"--headless\") \n",
    "#driver = webdriver.Chrome(options=chromeOptions) # lancio il driver in modalità Headless\n",
    "\n",
    "driver = webdriver.Chrome()                            # run the browser\n",
    "                                           "
   ]
  },
  {
   "cell_type": "markdown",
   "metadata": {},
   "source": [
    "Adesso vado a recuperare i links salvati nel file \"dataLinks.json\" e li stampo a schermo"
   ]
  },
  {
   "cell_type": "code",
   "execution_count": 2,
   "metadata": {},
   "outputs": [
    {
     "name": "stdout",
     "output_type": "stream",
     "text": [
      "[{'link': 'http://sira.arpat.toscana.it/apex2/f?p=QUALACQUA_MAS'}, {'link': 'http://sira.arpat.toscana.it/apex2/f?p=QUALACQUA_MAT'}, {'link': 'http://sira.arpat.toscana.it/apex2/f?p=QUALACQUA_MAR'}, {'link': 'http://sira.arpat.toscana.it/apex2/f?p=QUALACQUA_POT'}, {'link': 'http://sira.arpat.toscana.it/apex2/f?p=QUALACQUA_VTP'}, {'link': 'http://sira.arpat.toscana.it/apex2/f?p=QUALACQUA_VTM'}, {'link': 'http://sira.arpat.toscana.it/apex2/f?p=QUALACQUA_BAL'}, {'link': 'http://sira.arpat.toscana.it/apex2/f?p=QUALACQUA_NIT'}, {'link': 'http://sira.arpat.toscana.it/apex2/f?p=QUALACQUA_FIT'}]\n",
      "***************************\n",
      "http://sira.arpat.toscana.it/apex2/f?p=QUALACQUA_MAS\n",
      "http://sira.arpat.toscana.it/apex2/f?p=QUALACQUA_MAT\n",
      "http://sira.arpat.toscana.it/apex2/f?p=QUALACQUA_MAR\n",
      "http://sira.arpat.toscana.it/apex2/f?p=QUALACQUA_POT\n",
      "http://sira.arpat.toscana.it/apex2/f?p=QUALACQUA_VTP\n",
      "http://sira.arpat.toscana.it/apex2/f?p=QUALACQUA_VTM\n",
      "http://sira.arpat.toscana.it/apex2/f?p=QUALACQUA_BAL\n",
      "http://sira.arpat.toscana.it/apex2/f?p=QUALACQUA_NIT\n",
      "http://sira.arpat.toscana.it/apex2/f?p=QUALACQUA_FIT\n"
     ]
    }
   ],
   "source": [
    "import json\n",
    "\n",
    "links = []    # dichiaro l'array links\n",
    "\n",
    "with open('dataLinks.json') as json_file:\n",
    "    dataLinks = json.load(json_file)\n",
    "    print(dataLinks)\n",
    "    \n",
    "    print(\"***************************\")\n",
    "\n",
    "    for link in dataLinks:\n",
    "        print(link[\"link\"])\n",
    "        \n",
    "        links.append(link[\"link\"])    # metto i links recuperati da \"dataLinks\", in \"links\"  \n"
   ]
  },
  {
   "cell_type": "code",
   "execution_count": 3,
   "metadata": {},
   "outputs": [],
   "source": [
    "    # parameters and output data\n",
    "#    url         = links[0]  # link alla pagina\n",
    "    id_n_pulsante_m = \"apexir_ACTIONSMENUROOT\"  # id del pulsante menu a tendina \n",
    "    id_n_menu_tenina = \"apexir_ACTIONSMENU\"     # id menu a tendina \n",
    "        \n",
    "#    driver.get(url)  # get the web page\n",
    "    select = re.compile(\"(\\w*MAS$)|(\\w*MAT$)|(\\w*POT$)\")    #espressione regolare per selezionare i link di mio interesse\n",
    "    i = 0    #la prima tab\n",
    "    \n",
    "    for link in links:\n",
    "        if (select.search(links[i])):# usa select come valore di controllo, vede se corrisponde ad una delle opzioni\n",
    "            driver.execute_script(\"window.open('about:blank', 'tab\"+str(i)+\"');\")\n",
    "            driver.switch_to.window(\"tab\"+str(i))\n",
    "            driver.get(links[i])\n",
    "        \n",
    "        i+=1\n",
    "# ATT mettere del codice che ripete un ciclo su tutti i tab, e per ognuno fa partire la procedura di download,\n",
    "# una volta fatta partire, passa a quello dopo e la folstesso\n",
    "\n",
    "# DUBBIO, penso che partito uno, aspetta inizio download per passare a quello dopo. \n",
    "# Questo renderebbe inutile questa cosa. \n",
    "# Se fosse così a quel punto, potrei usare questo ciclo for anche per scaricare \n",
    "  \n",
    "    \n",
    "#    id_t_csv = \"apexir_CONTROL_PANEL_DROP\"   # individua la tabella csv html \n",
    "    \n",
    "#    t_csv = driver.find_element_by_id(id_t_csv)  # individua il menu a tendina\n",
    "#    t_csv.find_element_by_css_selector(\"a[title='CSV']\").click()  # fa click su scarica  \n",
    "    \n"
   ]
  },
  {
   "cell_type": "code",
   "execution_count": 4,
   "metadata": {},
   "outputs": [
    {
     "data": {
      "text/plain": [
       "1"
      ]
     },
     "execution_count": 4,
     "metadata": {},
     "output_type": "execute_result"
    }
   ],
   "source": [
    "    # inizio parte che individua e toglie i filtri \n",
    "    temp = driver.find_elements_by_css_selector(\"img[title='Rimuovi filtro']\")\n",
    "    len(temp)   "
   ]
  },
  {
   "cell_type": "code",
   "execution_count": 5,
   "metadata": {},
   "outputs": [],
   "source": [
    "    tmp = temp\n",
    "    try:\n",
    "        while (len(tmp) != 0):#tmp != []\n",
    "            driver.find_element_by_css_selector(\"img[title='Rimuovi filtro']\").click()\n",
    "            tmp = driver.find_elements_by_css_selector(\"img[title='Rimuovi filtro']\")\n",
    "    except:\n",
    "        try:\n",
    "            while (len(tmp) != 0):#tmp != []\n",
    "                driver.find_element_by_css_selector(\"img[title='Rimuovi filtro']\").click()\n",
    "                tmp = driver.find_elements_by_css_selector(\"img[title='Rimuovi filtro']\")            \n",
    "        except:\n",
    "            print(\"An exception occurred\")\n",
    "\n",
    "# fine parte che gestisce i filtri"
   ]
  },
  {
   "cell_type": "code",
   "execution_count": 10,
   "metadata": {},
   "outputs": [],
   "source": [
    "driver.switch_to.window(driver.window_handles[2]) #mi fa muovere tra i tab"
   ]
  },
  {
   "cell_type": "code",
   "execution_count": 11,
   "metadata": {},
   "outputs": [
    {
     "ename": "NoSuchElementException",
     "evalue": "Message: no such element: Unable to locate element: {\"method\":\"css selector\",\"selector\":\"[id=\"apexir_ACTIONSMENUROOT\"]\"}\n  (Session info: chrome=83.0.4103.61)\n",
     "output_type": "error",
     "traceback": [
      "\u001b[0;31m---------------------------------------------------------------------------\u001b[0m",
      "\u001b[0;31mNoSuchElementException\u001b[0m                    Traceback (most recent call last)",
      "\u001b[0;32m<ipython-input-11-dabb4793b0a1>\u001b[0m in \u001b[0;36m<module>\u001b[0;34m()\u001b[0m\n\u001b[1;32m      1\u001b[0m \u001b[0;31m# inizio parte che trova ed apre il menu a tendina\u001b[0m\u001b[0;34m\u001b[0m\u001b[0;34m\u001b[0m\u001b[0;34m\u001b[0m\u001b[0m\n\u001b[1;32m      2\u001b[0m \u001b[0;34m\u001b[0m\u001b[0m\n\u001b[0;32m----> 3\u001b[0;31m \u001b[0mdriver\u001b[0m\u001b[0;34m.\u001b[0m\u001b[0mfind_element_by_id\u001b[0m\u001b[0;34m(\u001b[0m\u001b[0mid_n_pulsante_m\u001b[0m\u001b[0;34m)\u001b[0m\u001b[0;34m.\u001b[0m\u001b[0mclick\u001b[0m\u001b[0;34m(\u001b[0m\u001b[0;34m)\u001b[0m     \u001b[0;31m# seleziono il pulsante menu a tendina\u001b[0m\u001b[0;34m\u001b[0m\u001b[0;34m\u001b[0m\u001b[0m\n\u001b[0m\u001b[1;32m      4\u001b[0m \u001b[0;34m\u001b[0m\u001b[0m\n\u001b[1;32m      5\u001b[0m \u001b[0mtendina\u001b[0m \u001b[0;34m=\u001b[0m \u001b[0mdriver\u001b[0m\u001b[0;34m.\u001b[0m\u001b[0mfind_element_by_id\u001b[0m\u001b[0;34m(\u001b[0m\u001b[0mid_n_menu_tenina\u001b[0m\u001b[0;34m)\u001b[0m  \u001b[0;31m# individua il menu a tendina\u001b[0m\u001b[0;34m\u001b[0m\u001b[0;34m\u001b[0m\u001b[0m\n",
      "\u001b[0;32m/home/juri/.local/lib/python3.6/site-packages/selenium/webdriver/remote/webdriver.py\u001b[0m in \u001b[0;36mfind_element_by_id\u001b[0;34m(self, id_)\u001b[0m\n\u001b[1;32m    358\u001b[0m             \u001b[0melement\u001b[0m \u001b[0;34m=\u001b[0m \u001b[0mdriver\u001b[0m\u001b[0;34m.\u001b[0m\u001b[0mfind_element_by_id\u001b[0m\u001b[0;34m(\u001b[0m\u001b[0;34m'foo'\u001b[0m\u001b[0;34m)\u001b[0m\u001b[0;34m\u001b[0m\u001b[0;34m\u001b[0m\u001b[0m\n\u001b[1;32m    359\u001b[0m         \"\"\"\n\u001b[0;32m--> 360\u001b[0;31m         \u001b[0;32mreturn\u001b[0m \u001b[0mself\u001b[0m\u001b[0;34m.\u001b[0m\u001b[0mfind_element\u001b[0m\u001b[0;34m(\u001b[0m\u001b[0mby\u001b[0m\u001b[0;34m=\u001b[0m\u001b[0mBy\u001b[0m\u001b[0;34m.\u001b[0m\u001b[0mID\u001b[0m\u001b[0;34m,\u001b[0m \u001b[0mvalue\u001b[0m\u001b[0;34m=\u001b[0m\u001b[0mid_\u001b[0m\u001b[0;34m)\u001b[0m\u001b[0;34m\u001b[0m\u001b[0;34m\u001b[0m\u001b[0m\n\u001b[0m\u001b[1;32m    361\u001b[0m \u001b[0;34m\u001b[0m\u001b[0m\n\u001b[1;32m    362\u001b[0m     \u001b[0;32mdef\u001b[0m \u001b[0mfind_elements_by_id\u001b[0m\u001b[0;34m(\u001b[0m\u001b[0mself\u001b[0m\u001b[0;34m,\u001b[0m \u001b[0mid_\u001b[0m\u001b[0;34m)\u001b[0m\u001b[0;34m:\u001b[0m\u001b[0;34m\u001b[0m\u001b[0;34m\u001b[0m\u001b[0m\n",
      "\u001b[0;32m/home/juri/.local/lib/python3.6/site-packages/selenium/webdriver/remote/webdriver.py\u001b[0m in \u001b[0;36mfind_element\u001b[0;34m(self, by, value)\u001b[0m\n\u001b[1;32m    976\u001b[0m         return self.execute(Command.FIND_ELEMENT, {\n\u001b[1;32m    977\u001b[0m             \u001b[0;34m'using'\u001b[0m\u001b[0;34m:\u001b[0m \u001b[0mby\u001b[0m\u001b[0;34m,\u001b[0m\u001b[0;34m\u001b[0m\u001b[0;34m\u001b[0m\u001b[0m\n\u001b[0;32m--> 978\u001b[0;31m             'value': value})['value']\n\u001b[0m\u001b[1;32m    979\u001b[0m \u001b[0;34m\u001b[0m\u001b[0m\n\u001b[1;32m    980\u001b[0m     \u001b[0;32mdef\u001b[0m \u001b[0mfind_elements\u001b[0m\u001b[0;34m(\u001b[0m\u001b[0mself\u001b[0m\u001b[0;34m,\u001b[0m \u001b[0mby\u001b[0m\u001b[0;34m=\u001b[0m\u001b[0mBy\u001b[0m\u001b[0;34m.\u001b[0m\u001b[0mID\u001b[0m\u001b[0;34m,\u001b[0m \u001b[0mvalue\u001b[0m\u001b[0;34m=\u001b[0m\u001b[0;32mNone\u001b[0m\u001b[0;34m)\u001b[0m\u001b[0;34m:\u001b[0m\u001b[0;34m\u001b[0m\u001b[0;34m\u001b[0m\u001b[0m\n",
      "\u001b[0;32m/home/juri/.local/lib/python3.6/site-packages/selenium/webdriver/remote/webdriver.py\u001b[0m in \u001b[0;36mexecute\u001b[0;34m(self, driver_command, params)\u001b[0m\n\u001b[1;32m    319\u001b[0m         \u001b[0mresponse\u001b[0m \u001b[0;34m=\u001b[0m \u001b[0mself\u001b[0m\u001b[0;34m.\u001b[0m\u001b[0mcommand_executor\u001b[0m\u001b[0;34m.\u001b[0m\u001b[0mexecute\u001b[0m\u001b[0;34m(\u001b[0m\u001b[0mdriver_command\u001b[0m\u001b[0;34m,\u001b[0m \u001b[0mparams\u001b[0m\u001b[0;34m)\u001b[0m\u001b[0;34m\u001b[0m\u001b[0;34m\u001b[0m\u001b[0m\n\u001b[1;32m    320\u001b[0m         \u001b[0;32mif\u001b[0m \u001b[0mresponse\u001b[0m\u001b[0;34m:\u001b[0m\u001b[0;34m\u001b[0m\u001b[0;34m\u001b[0m\u001b[0m\n\u001b[0;32m--> 321\u001b[0;31m             \u001b[0mself\u001b[0m\u001b[0;34m.\u001b[0m\u001b[0merror_handler\u001b[0m\u001b[0;34m.\u001b[0m\u001b[0mcheck_response\u001b[0m\u001b[0;34m(\u001b[0m\u001b[0mresponse\u001b[0m\u001b[0;34m)\u001b[0m\u001b[0;34m\u001b[0m\u001b[0;34m\u001b[0m\u001b[0m\n\u001b[0m\u001b[1;32m    322\u001b[0m             response['value'] = self._unwrap_value(\n\u001b[1;32m    323\u001b[0m                 response.get('value', None))\n",
      "\u001b[0;32m/home/juri/.local/lib/python3.6/site-packages/selenium/webdriver/remote/errorhandler.py\u001b[0m in \u001b[0;36mcheck_response\u001b[0;34m(self, response)\u001b[0m\n\u001b[1;32m    240\u001b[0m                 \u001b[0malert_text\u001b[0m \u001b[0;34m=\u001b[0m \u001b[0mvalue\u001b[0m\u001b[0;34m[\u001b[0m\u001b[0;34m'alert'\u001b[0m\u001b[0;34m]\u001b[0m\u001b[0;34m.\u001b[0m\u001b[0mget\u001b[0m\u001b[0;34m(\u001b[0m\u001b[0;34m'text'\u001b[0m\u001b[0;34m)\u001b[0m\u001b[0;34m\u001b[0m\u001b[0;34m\u001b[0m\u001b[0m\n\u001b[1;32m    241\u001b[0m             \u001b[0;32mraise\u001b[0m \u001b[0mexception_class\u001b[0m\u001b[0;34m(\u001b[0m\u001b[0mmessage\u001b[0m\u001b[0;34m,\u001b[0m \u001b[0mscreen\u001b[0m\u001b[0;34m,\u001b[0m \u001b[0mstacktrace\u001b[0m\u001b[0;34m,\u001b[0m \u001b[0malert_text\u001b[0m\u001b[0;34m)\u001b[0m\u001b[0;34m\u001b[0m\u001b[0;34m\u001b[0m\u001b[0m\n\u001b[0;32m--> 242\u001b[0;31m         \u001b[0;32mraise\u001b[0m \u001b[0mexception_class\u001b[0m\u001b[0;34m(\u001b[0m\u001b[0mmessage\u001b[0m\u001b[0;34m,\u001b[0m \u001b[0mscreen\u001b[0m\u001b[0;34m,\u001b[0m \u001b[0mstacktrace\u001b[0m\u001b[0;34m)\u001b[0m\u001b[0;34m\u001b[0m\u001b[0;34m\u001b[0m\u001b[0m\n\u001b[0m\u001b[1;32m    243\u001b[0m \u001b[0;34m\u001b[0m\u001b[0m\n\u001b[1;32m    244\u001b[0m     \u001b[0;32mdef\u001b[0m \u001b[0m_value_or_default\u001b[0m\u001b[0;34m(\u001b[0m\u001b[0mself\u001b[0m\u001b[0;34m,\u001b[0m \u001b[0mobj\u001b[0m\u001b[0;34m,\u001b[0m \u001b[0mkey\u001b[0m\u001b[0;34m,\u001b[0m \u001b[0mdefault\u001b[0m\u001b[0;34m)\u001b[0m\u001b[0;34m:\u001b[0m\u001b[0;34m\u001b[0m\u001b[0;34m\u001b[0m\u001b[0m\n",
      "\u001b[0;31mNoSuchElementException\u001b[0m: Message: no such element: Unable to locate element: {\"method\":\"css selector\",\"selector\":\"[id=\"apexir_ACTIONSMENUROOT\"]\"}\n  (Session info: chrome=83.0.4103.61)\n"
     ]
    }
   ],
   "source": [
    "# inizio parte che trova ed apre il menu a tendina \n",
    "\n",
    "driver.find_element_by_id(id_n_pulsante_m).click()     # seleziono il pulsante menu a tendina\n",
    "    \n",
    "tendina = driver.find_element_by_id(id_n_menu_tenina)  # individua il menu a tendina\n",
    "tendina.find_element_by_css_selector(\"a[title='Scarica']\").click()  # fa click su scarica  \n",
    "\n",
    "# fine parte che apre il menu a tendina "
   ]
  },
  {
   "cell_type": "markdown",
   "metadata": {},
   "source": [
    " Questa parte qui sotto va bene cosi serve a scaricare il csv\n",
    " "
   ]
  },
  {
   "cell_type": "code",
   "execution_count": null,
   "metadata": {},
   "outputs": [],
   "source": [
    "def get_CSV():\n",
    "   \n",
    "    id_csv = \"apexir_dl_CSV\"                    # individua l'id del csv \n",
    "    WebDriverWait(driver, 5)\n",
    "    driver.find_element_by_id(id_csv).click()   # scarica il csv\n",
    "\n",
    "    return 1\n"
   ]
  },
  {
   "cell_type": "code",
   "execution_count": null,
   "metadata": {},
   "outputs": [],
   "source": [
    "get_CSV()\n",
    "#driver.implicitly_wait(600)"
   ]
  },
  {
   "cell_type": "markdown",
   "metadata": {},
   "source": [
    "webdriver.get('about://blank')\n",
    "my_script = 'var a = document.createElement(\"a\");' \\\n",
    "            'var linkText = document.createTextNode(\"%s\");' \\\n",
    "            'a.appendChild(linkText);' \\\n",
    "            'a.title = \"%s\";' \\\n",
    "            'a.href = \"%s\";' \\\n",
    "            'document.body.appendChild(a);' % \\\n",
    "            (url_to_use, url_to_use, url_to_use)\n",
    "webdriver.execute_script(my_script)\n",
    "webdriver.set_page_load_timeout(20)\n",
    "webdriver.click_element_by_text('css=a', url_to_use)\n",
    "if page.loaded() is False:\n",
    "    webdriver.click_element_by_text('css=a', url_to_use)\n",
    "if page.loaded() is False:\n",
    "    webdriver.click_element_by_text('css=a', url_to_use)\n",
    "if page.loaded() is False:\n",
    "    webdriver.click_element_by_text('css=a', url_to_use)"
   ]
  },
  {
   "cell_type": "code",
   "execution_count": null,
   "metadata": {},
   "outputs": [],
   "source": [
    "driver.quit()"
   ]
  },
  {
   "cell_type": "code",
   "execution_count": null,
   "metadata": {},
   "outputs": [],
   "source": []
  }
 ],
 "metadata": {
  "kernelspec": {
   "display_name": "Python 3",
   "language": "python",
   "name": "python3"
  },
  "language_info": {
   "codemirror_mode": {
    "name": "ipython",
    "version": 3
   },
   "file_extension": ".py",
   "mimetype": "text/x-python",
   "name": "python",
   "nbconvert_exporter": "python",
   "pygments_lexer": "ipython3",
   "version": "3.6.9"
  }
 },
 "nbformat": 4,
 "nbformat_minor": 2
}
