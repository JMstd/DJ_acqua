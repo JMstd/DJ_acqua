{
 "cells": [
  {
   "cell_type": "code",
   "execution_count": 1,
   "metadata": {},
   "outputs": [],
   "source": [
    "from selenium.webdriver import Chrome\n",
    "from selenium.webdriver.common.keys import Keys"
   ]
  },
  {
   "cell_type": "code",
   "execution_count": 2,
   "metadata": {},
   "outputs": [],
   "source": [
    "driver = Chrome()\n",
    "driver.get(\"https://femminile.football.it/ricerca.php\")"
   ]
  },
  {
   "cell_type": "code",
   "execution_count": 3,
   "metadata": {},
   "outputs": [],
   "source": [
    "lettera = driver.find_element_by_link_text(\"Q\").click()"
   ]
  },
  {
   "cell_type": "code",
   "execution_count": 4,
   "metadata": {},
   "outputs": [],
   "source": [
    "playersTable = driver.find_element_by_xpath(\"/html/body/table/tbody/tr/td/table/tbody/tr/td[2]/table/tbody/tr/td[2]/table[2]\")"
   ]
  },
  {
   "cell_type": "code",
   "execution_count": 5,
   "metadata": {},
   "outputs": [],
   "source": [
    "players = playersTable.find_elements_by_tag_name(\"a\")"
   ]
  },
  {
   "cell_type": "code",
   "execution_count": 6,
   "metadata": {},
   "outputs": [
    {
     "name": "stdout",
     "output_type": "stream",
     "text": [
      "QAFOKU MARTINA (4) [nato a il 28/11/2000 ]\n",
      "QUADRELLI SARA (57) [nato a Cattolica il 28/08/1997 ]\n",
      "QUAGGIOTTO ELENA (57) [nato a il 30/04/1992 ]\n",
      "QUAGLIA FRANCESCA (57) [nato a Padova il 13/04/1996 ]\n",
      "QUAGLIOTTO JESSICA (57) [nato a il 16/03/1993 ]\n",
      "QUARANTA MARTINA (57) [nato a il 19/05/1995 ]\n",
      "QUARESIMA MARA (57) [nato a il 15/04/2002 ]\n",
      "QUARTICELLI VALENTINA (57) [nato a Roma il 20/02/1990 ]\n",
      "QUARTO FEDERICA (57) [nato a il 13/04/1992 ]\n",
      "QUARTULLO FEDERICA (57) [nato a il 20/06/1991 ]\n",
      "QUATTROCCHI FRANCESCA (57) [nato a Palermo il 03/08/1988 ]\n",
      "QUAZZICO FRANCESCA (57) [nato a Taranto il 07/05/2001 ]\n",
      "QUERCIA MARZIA (57) [nato a il 16/09/1980 ]\n",
      "QUERZOLA LAURA (57) [nato a il 20/08/1991 ]\n",
      "QUIN JENNIFER (57) [nato a il ]\n",
      "QUINTO MICHELINA (57) [nato a il 30/03/1988 ]\n",
      "QUISTINI VALENTINA (57) [nato a il 30/11/1985 ]\n",
      "QUITADAMO SONIA (57) [nato a il 10/10/1985 ]\n"
     ]
    }
   ],
   "source": [
    "for player in players:\n",
    "    print(player.text)"
   ]
  },
  {
   "cell_type": "markdown",
   "metadata": {},
   "source": [
    "## Espressioni regolari\n",
    "per estrarre le informazioni da queste stringhe uso le espressioni regolari\n",
    "\n",
    "Questo è il [sito](https://www.python.it/doc/howto/Regex/regex-it/regex-it.html) dove si trova la documentazione\n",
    "per testare le proprie espressioni regolare usare il [test online](https://regexr.com/)"
   ]
  },
  {
   "cell_type": "code",
   "execution_count": 7,
   "metadata": {},
   "outputs": [
    {
     "name": "stdout",
     "output_type": "stream",
     "text": [
      "QAFOKU MARTINA\n",
      "28/11/2000\n",
      "QUADRELLI SARA\n",
      "28/08/1997\n",
      "QUAGGIOTTO ELENA\n",
      "30/04/1992\n",
      "QUAGLIA FRANCESCA\n",
      "13/04/1996\n",
      "QUAGLIOTTO JESSICA\n",
      "16/03/1993\n",
      "QUARANTA MARTINA\n",
      "19/05/1995\n",
      "QUARESIMA MARA\n",
      "15/04/2002\n",
      "QUARTICELLI VALENTINA\n",
      "20/02/1990\n",
      "QUARTO FEDERICA\n",
      "13/04/1992\n",
      "QUARTULLO FEDERICA\n",
      "20/06/1991\n",
      "QUATTROCCHI FRANCESCA\n",
      "03/08/1988\n",
      "QUAZZICO FRANCESCA\n",
      "07/05/2001\n",
      "QUERCIA MARZIA\n",
      "16/09/1980\n",
      "QUERZOLA LAURA\n",
      "20/08/1991\n",
      "QUIN JENNIFER\n",
      "nessuna data\n",
      "QUINTO MICHELINA\n",
      "30/03/1988\n",
      "QUISTINI VALENTINA\n",
      "30/11/1985\n",
      "QUITADAMO SONIA\n",
      "10/10/1985\n"
     ]
    }
   ],
   "source": [
    "import re\n",
    "\n",
    "nome    = re.compile(\"[A-Z]+\\s[A-Z]+\")\n",
    "nascita = re.compile(\"[0-9]{2}\\/[0-9]{2}\\/[0-9]{4}\")\n",
    "\n",
    "for playerRow in players:\n",
    "    n=nome.search(playerRow.text)\n",
    "    d=nascita.search(playerRow.text)\n",
    "    if n:\n",
    "        print(n.group())\n",
    "    else:\n",
    "        print(\"nessun nome\")\n",
    "    if d:\n",
    "        print(d.group())\n",
    "    else:\n",
    "        print(\"nessuna data\")\n",
    "    "
   ]
  },
  {
   "cell_type": "code",
   "execution_count": 8,
   "metadata": {},
   "outputs": [],
   "source": [
    "driver.quit()"
   ]
  },
  {
   "cell_type": "code",
   "execution_count": null,
   "metadata": {},
   "outputs": [],
   "source": []
  }
 ],
 "metadata": {
  "kernelspec": {
   "display_name": "Python 3",
   "language": "python",
   "name": "python3"
  },
  "language_info": {
   "codemirror_mode": {
    "name": "ipython",
    "version": 3
   },
   "file_extension": ".py",
   "mimetype": "text/x-python",
   "name": "python",
   "nbconvert_exporter": "python",
   "pygments_lexer": "ipython3",
   "version": "3.6.9"
  }
 },
 "nbformat": 4,
 "nbformat_minor": 2
}
