{
 "cells": [
  {
   "cell_type": "markdown",
   "metadata": {},
   "source": [
    "# Calcio femminile \n",
    "\n",
    "Esempio di scraping dal sito [femminile.football.it](femminile.football.it)"
   ]
  },
  {
   "cell_type": "code",
   "execution_count": 5,
   "metadata": {},
   "outputs": [],
   "source": [
    "from selenium import webdriver                         # import the webdriver API \n",
    "from selenium.webdriver.common.keys import Keys        # import the keys of the keyboard such as RETURNS, F1, ALT, ...\n",
    "import re                                              # import regular expression\n",
    "\n",
    "driver = webdriver.Chrome()                            # run the browser\n",
    "                                           "
   ]
  },
  {
   "cell_type": "markdown",
   "metadata": {},
   "source": [
    "### Funzione getPlayers\n",
    "Fornita una lettera accede alla pagina di [ricerca delle giocatrice](https://femminile.football.it/ricerca.php) e recupera tutte le informazioni delle giocatrici con quella lettera, in particolare per ogni giocatrice recupera il suo id con cui si accede alla scheda relativa."
   ]
  },
  {
   "cell_type": "code",
   "execution_count": 6,
   "metadata": {},
   "outputs": [],
   "source": [
    "def getPlayers(letter):\n",
    "    # parameters and output data\n",
    "    url         = 'https://femminile.football.it/ricerca.php?Ricerca=giocatori&iniziale='\n",
    "    xpath       = \"/html/body/table/tbody/tr/td/table/tbody/tr/td[2]/table/tbody/tr/td[2]/table[2]\"\n",
    "    patternName = re.compile(\"[A-Z]+\\s[A-Z]+\") # QAFOKU MARTINA\n",
    "    patternData = re.compile(\"([0-9]){2}\\/([0-9]){2}\\/([0-9]){4}\") # 28/11/2000\n",
    "    playersData = []\n",
    "    \n",
    "    driver.get(url+letter)  # get the web page\n",
    "\n",
    "    tabella = driver.find_element_by_xpath(xpath)     # seleziono l'elemento tabella contenente le giocatrici\n",
    "    players = tabella.find_elements_by_tag_name('a')  # seleziono tutti i tag 'a' (anchor) a partire dalla tabella\n",
    "\n",
    "    playersData = [] # definisco una lista vuota dove andrò ad inserire i dati delle calciatrici    \n",
    "    for player in players:\n",
    "        n = patternName.search(player.text) # ricerco il nome\n",
    "        d = patternData.search(player.text) # ricerco la data\n",
    "        if(d):\n",
    "            dataNascita = d.group()\n",
    "        else:\n",
    "            dataNascita = ''\n",
    "        if(n):\n",
    "            nome = n.group()\n",
    "        else:\n",
    "            nome = ''\n",
    "        link = player.get_attribute('href')\n",
    "        playersData.append({'nome':nome,'id':link.split('=')[1], 'dataNascita':dataNascita })\n",
    "    \n",
    "    return playersData"
   ]
  },
  {
   "cell_type": "code",
   "execution_count": 7,
   "metadata": {
    "scrolled": false
   },
   "outputs": [
    {
     "name": "stdout",
     "output_type": "stream",
     "text": [
      "[{'nome': 'QAFOKU MARTINA', 'id': '8316', 'dataNascita': '28/11/2000'}, {'nome': 'QUADRELLI SARA', 'id': '7267', 'dataNascita': '28/08/1997'}, {'nome': 'QUAGGIOTTO ELENA', 'id': '2262', 'dataNascita': '30/04/1992'}, {'nome': 'QUAGLIA FRANCESCA', 'id': '5688', 'dataNascita': '13/04/1996'}, {'nome': 'QUAGLIOTTO JESSICA', 'id': '3031', 'dataNascita': '16/03/1993'}, {'nome': 'QUARANTA MARTINA', 'id': '6611', 'dataNascita': '19/05/1995'}, {'nome': 'QUARESIMA MARA', 'id': '10475', 'dataNascita': '15/04/2002'}, {'nome': 'QUARTICELLI VALENTINA', 'id': '2398', 'dataNascita': '20/02/1990'}, {'nome': 'QUARTO FEDERICA', 'id': '3220', 'dataNascita': '13/04/1992'}, {'nome': 'QUARTULLO FEDERICA', 'id': '7046', 'dataNascita': '20/06/1991'}, {'nome': 'QUATTROCCHI FRANCESCA', 'id': '3829', 'dataNascita': '03/08/1988'}, {'nome': 'QUAZZICO FRANCESCA', 'id': '8752', 'dataNascita': '07/05/2001'}, {'nome': 'QUERCIA MARZIA', 'id': '4650', 'dataNascita': '16/09/1980'}, {'nome': 'QUERZOLA LAURA', 'id': '9149', 'dataNascita': '20/08/1991'}, {'nome': 'QUIN JENNIFER', 'id': '3752', 'dataNascita': ''}, {'nome': 'QUINTO MICHELINA', 'id': '4145', 'dataNascita': '30/03/1988'}, {'nome': 'QUISTINI VALENTINA', 'id': '5564', 'dataNascita': '30/11/1985'}, {'nome': 'QUITADAMO SONIA', 'id': '261', 'dataNascita': '10/10/1985'}]\n"
     ]
    }
   ],
   "source": [
    "# test getPlayers\n",
    "playersData = getPlayers('Q')\n",
    "print(playersData)"
   ]
  },
  {
   "cell_type": "markdown",
   "metadata": {},
   "source": [
    "### Funzione getPlayerData\n",
    "fornito un id accede alla pagina della giocatrice e recupera i suoi dati"
   ]
  },
  {
   "cell_type": "code",
   "execution_count": 8,
   "metadata": {},
   "outputs": [],
   "source": [
    "def getPlayerData(id):\n",
    "    url   = \"https://femminile.football.it/schedagiocatore.php?id_giocatore=\"\n",
    "    xpath = \"/html/body/table/tbody/tr/td/table/tbody/tr/td[2]/table[3]/tbody/tr[1]/td[2]/table\"\n",
    "\n",
    "    driver.get(url+id)\n",
    "    \n",
    "    tabella = driver.find_element_by_xpath(xpath)     # seleziono l'elemento tabella contenente le giocatrici\n",
    "    rows    = tabella.find_elements_by_tag_name('tr') # seleziono tutti i tag 'tr' (table row) a partire dalla tabella\n",
    "    \n",
    "    playerData = {}\n",
    "    for row in rows:\n",
    "        if(row.text.strip()!=''):\n",
    "            # print(\"-\"+row.text)\n",
    "            cells = row.find_elements_by_tag_name(\"td\")\n",
    "            playerData[cells[0].text]=cells[1].text.strip()    \n",
    "\n",
    "    # Recupero la squadra in cui gioca nella stagione attuale dalla penultima riga\n",
    "    xpath = \"/html/body/table/tbody/tr/td/table/tbody/tr/td[2]/table[5]/tbody/tr[1]/td[2]/table//tr\"\n",
    "    rows  = driver.find_elements_by_xpath(xpath)\n",
    "    row   = rows[len(rows)-2]\n",
    "    cells = row.find_elements_by_tag_name(\"td\")\n",
    "    playerData[\"team2019/20\"]=cells[0].text\n",
    "    return playerData"
   ]
  },
  {
   "cell_type": "code",
   "execution_count": 9,
   "metadata": {},
   "outputs": [
    {
     "name": "stdout",
     "output_type": "stream",
     "text": [
      "{'Data di nascita': '14/09/1999', 'luogo di nascita': '( [N.D.] ) - Italia', 'nazione': 'Italia', 'altezza': '', 'peso forma': '', 'ruolo': 'Attaccante', 'sito ufficiale': '', 'Nazionalita': 'Italiana', 'team2019/20': 'Saluzzo'}\n"
     ]
    }
   ],
   "source": [
    "#test getPlayerData\n",
    "playerData = getPlayerData('9205')\n",
    "print(playerData)"
   ]
  },
  {
   "cell_type": "markdown",
   "metadata": {},
   "source": [
    "### Programma principale"
   ]
  },
  {
   "cell_type": "code",
   "execution_count": 10,
   "metadata": {},
   "outputs": [],
   "source": [
    "#letters = ['A','B','C','D','E','F','G','H','I','J','K','L','M','N','O','P','Q','R','S','T','U','V','W','X','Y','Z']\n",
    "letters = ['Q','Z']\n",
    "\n",
    "# recupero tutte le giocatrici\n",
    "players = [] # definisco una lista vuota dove inserirò tutte le giocatrici\n",
    "for letter in letters:\n",
    "    players.extend(getPlayers(letter))         # add a list to a list\n",
    "\n",
    "# per ogni giocatrice recupero i dati\n",
    "playersDB = [] # definisco una lista vuota dove andrò a salvare i dati di ogni giocatrice\n",
    "for player in players:\n",
    "    player.update(getPlayerData(player['id'])) # add a dict to a dict\n",
    "    playersDB.append(player)\n",
    "    "
   ]
  },
  {
   "cell_type": "markdown",
   "metadata": {},
   "source": [
    "## Visualizzo i risultati"
   ]
  },
  {
   "cell_type": "code",
   "execution_count": 11,
   "metadata": {},
   "outputs": [
    {
     "name": "stdout",
     "output_type": "stream",
     "text": [
      "188\n"
     ]
    }
   ],
   "source": [
    "print(len(playersDB))"
   ]
  },
  {
   "cell_type": "markdown",
   "metadata": {},
   "source": [
    "## Programma principale in modalità headless"
   ]
  },
  {
   "cell_type": "code",
   "execution_count": 12,
   "metadata": {},
   "outputs": [],
   "source": [
    "driver.quit() # chiudo il driver che non è in modalità headless\n",
    "\n",
    "from selenium.webdriver.chrome.options import Options\n",
    "chromeOptions = Options()  \n",
    "chromeOptions.add_argument(\"--headless\") \n",
    "\n",
    "driver = webdriver.Chrome(options=chromeOptions) # lancio il driver in modalità Headless\n",
    "\n",
    "# recupero tutte le giocatrici\n",
    "players = [] # definisco una lista vuota dove inserirò tutte le giocatrici\n",
    "for letter in letters:\n",
    "    players.extend(getPlayers(letter))         # add a list to a list\n",
    "\n",
    "\n",
    "# per ogni giocatrice recupero i dati\n",
    "playersDB = [] # definisco una lista vuota dove andrò a salvare i dati di ogni giocatrice\n",
    "for player in players:\n",
    "    player.update(getPlayerData(player['id'])) # add a dict to a dict\n",
    "    playersDB.append(player)"
   ]
  },
  {
   "cell_type": "markdown",
   "metadata": {},
   "source": [
    "## Salvo su file i dati in formato CSV"
   ]
  },
  {
   "cell_type": "code",
   "execution_count": 13,
   "metadata": {},
   "outputs": [],
   "source": [
    "import csv\n",
    "keys = playersDB[0].keys() # Recupero i nomi dei campi dal primo dictionary\n",
    "with open('playersDB.csv', 'w', newline='') as csvFile:\n",
    "    dict_writer = csv.DictWriter(csvFile, keys) # imposto i nomi dei campi\n",
    "    dict_writer.writeheader()                   # scriva la prima riga\n",
    "    dict_writer.writerows(playersDB)            # scrivo i dati"
   ]
  },
  {
   "cell_type": "code",
   "execution_count": null,
   "metadata": {},
   "outputs": [],
   "source": []
  }
 ],
 "metadata": {
  "kernelspec": {
   "display_name": "Python 3",
   "language": "python",
   "name": "python3"
  },
  "language_info": {
   "codemirror_mode": {
    "name": "ipython",
    "version": 3
   },
   "file_extension": ".py",
   "mimetype": "text/x-python",
   "name": "python",
   "nbconvert_exporter": "python",
   "pygments_lexer": "ipython3",
   "version": "3.6.9"
  }
 },
 "nbformat": 4,
 "nbformat_minor": 2
}
