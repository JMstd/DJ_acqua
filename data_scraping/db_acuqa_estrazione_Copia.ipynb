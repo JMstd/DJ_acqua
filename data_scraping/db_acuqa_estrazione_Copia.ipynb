{
 "cells": [
  {
   "cell_type": "markdown",
   "metadata": {},
   "source": [
    "questa prima parte va ad importare tutto quello che mi servirà dopo e fa partire Chrome"
   ]
  },
  {
   "cell_type": "code",
   "execution_count": null,
   "metadata": {},
   "outputs": [],
   "source": [
    "from selenium import webdriver                         # import the webdriver API \n",
    "from selenium.webdriver.common.keys import Keys        # import the keys of the keyboard such as RETURNS, F1, ALT, ...\n",
    "import re                                              # import regular expression\n",
    "\n",
    "from selenium.common.exceptions import NoSuchElementException #importo l'eccezione, in modo che la possa riconoscere\n",
    "from selenium.webdriver.common.by import By\n",
    "from selenium.webdriver.support.ui import WebDriverWait\n",
    "from selenium.webdriver.support import expected_conditions as EC\n",
    "\n",
    "\n",
    "from selenium.webdriver.chrome.options import Options\n",
    "chromeOptions = Options()  \n",
    "#chromeOptions.add_argument(\"--headless\") \n",
    "#driver = webdriver.Chrome(options=chromeOptions) # lancio il driver in modalità Headless\n",
    "\n",
    "driver = webdriver.Chrome()                            # run the browser\n",
    "                                           "
   ]
  },
  {
   "cell_type": "markdown",
   "metadata": {},
   "source": [
    "Adesso vado a recuperare i links salvati nel file \"dataLinks.json\" e li stampo a schermo"
   ]
  },
  {
   "cell_type": "code",
   "execution_count": null,
   "metadata": {},
   "outputs": [],
   "source": [
    "import json\n",
    "\n",
    "links = []    # dichiaro l'array links\n",
    "\n",
    "with open('dataLinks.json') as json_file:\n",
    "    dataLinks = json.load(json_file)\n",
    "    print(dataLinks)\n",
    "    \n",
    "    print(\"***************************\")\n",
    "\n",
    "    for link in dataLinks:\n",
    "        print(link[\"link\"])\n",
    "        \n",
    "        links.append(link[\"link\"])    # metto i links recuperati da \"dataLinks\", in \"links\"  \n"
   ]
  },
  {
   "cell_type": "markdown",
   "metadata": {},
   "source": [
    "questa parte seleziona i link di mio interesse ed apre tutti i tab contenenti quelle pagine"
   ]
  },
  {
   "cell_type": "code",
   "execution_count": null,
   "metadata": {},
   "outputs": [],
   "source": [
    "    # parameters and output data\n",
    "#    url         = links[0]  # link alla pagina\n",
    "    id_n_pulsante_m = \"apexir_ACTIONSMENUROOT\"  # id del pulsante menu a tendina \n",
    "    id_n_menu_tenina = \"apexir_ACTIONSMENU\"     # id menu a tendina \n",
    "        \n",
    "#    driver.get(url)  # get the web page\n",
    "    select = re.compile(\"(\\w*MAS$)|(\\w*MAT$)|(\\w*POT$)\")    #espressione regolare per selezionare i link di mio interesse\n",
    "    i = 0    #la prima tab\n",
    "    \n",
    "    for link in links:\n",
    "        if (select.search(links[i])):# usa select come valore di controllo, vede se corrisponde ad una delle opzioni\n",
    "            driver.execute_script(\"window.open('about:blank', 'tab\"+str(i)+\"');\")\n",
    "            driver.switch_to.window(\"tab\"+str(i))\n",
    "            driver.get(links[i])\n",
    "        \n",
    "        i+=1   # serve a dirgli il numero di tab da usare\n",
    "# ATT mettere del codice che ripete un ciclo su tutti i tab, e per ognuno fa partire la procedura di download,\n",
    "# una volta fatta partire, passa a quello dopo e fa lo stesso\n",
    "\n",
    "# Se fosse così a quel punto, potrei usare questo ciclo for anche per scaricare \n",
    "  \n",
    "    \n",
    "#    id_t_csv = \"apexir_CONTROL_PANEL_DROP\"   # individua la tabella csv html \n",
    "    \n",
    "#    t_csv = driver.find_element_by_id(id_t_csv)  # individua il menu a tendina\n",
    "#    t_csv.find_element_by_css_selector(\"a[title='CSV']\").click()  # fa click su scarica  \n",
    "    \n"
   ]
  },
  {
   "cell_type": "markdown",
   "metadata": {},
   "source": [
    "la parte sotto trova i filtri e deve toglierli\n",
    "\n",
    "ATT --> anche questa parte qui viene influenzata dall'aspettare che la pagina carichi, quindi applicare lo stesso metodo poi trovato anche qui"
   ]
  },
  {
   "cell_type": "code",
   "execution_count": null,
   "metadata": {},
   "outputs": [],
   "source": [
    "# inizio parte che individua e toglie i filtri *****************************************************************\n",
    "\n",
    "#WebDriverWait(driver, 10).until(\n",
    "#        EC.presence_of_element_located((By.ID, \"myDynamicElement\"))\n",
    "#    )\n",
    "temp = driver.find_elements_by_css_selector(\"img[title='Rimuovi filtro']\")\n",
    "len(temp)  \n",
    "\n"
   ]
  },
  {
   "cell_type": "markdown",
   "metadata": {},
   "source": [
    "questa parte sotto ha due except in quanto nella versione precedente di chromeDriver dava problemi con i tempi di attesa come per il download"
   ]
  },
  {
   "cell_type": "code",
   "execution_count": null,
   "metadata": {},
   "outputs": [],
   "source": [
    "    tmp = temp\n",
    "    try:\n",
    "        while (len(tmp) != 0):#tmp != []\n",
    "            driver.find_element_by_css_selector(\"img[title='Rimuovi filtro']\").click()\n",
    "            tmp = driver.find_elements_by_css_selector(\"img[title='Rimuovi filtro']\")\n",
    "    except:\n",
    "        try:\n",
    "            while (len(tmp) != 0):#tmp != []\n",
    "                driver.find_element_by_css_selector(\"img[title='Rimuovi filtro']\").click()\n",
    "                tmp = driver.find_elements_by_css_selector(\"img[title='Rimuovi filtro']\")            \n",
    "        except:\n",
    "            print(\"An exception occurred\")\n",
    "\n",
    "# fine parte che gestisce i filtri *******************************************************************************"
   ]
  },
  {
   "cell_type": "markdown",
   "metadata": {},
   "source": [
    "Questo mi fa muovere tra i vari tab (magari lo faccio ciclare per girarmeli tutti)"
   ]
  },
  {
   "cell_type": "code",
   "execution_count": null,
   "metadata": {},
   "outputs": [],
   "source": [
    "driver.switch_to.window(driver.window_handles[1]) #mi fa muovere tra i tab"
   ]
  },
  {
   "cell_type": "markdown",
   "metadata": {},
   "source": [
    "Questo serve a scaricare la pagina usando wget\n",
    "\n",
    "si rende necessario in quanto le coordinate geografiche non hanno un link scaricabile, ma un link alla pagina con i dati"
   ]
  },
  {
   "cell_type": "code",
   "execution_count": null,
   "metadata": {},
   "outputs": [],
   "source": [
    "def coord():\n",
    "        #****************************** nella pagina dove sono, cerca il link con quel nome\n",
    "        #questo è inserito nel ctrl_t in modo che quando fa i vari controlli per scaricare, controlla anche questo\n",
    "        #inoltre per semplicità va inserito come ultimo comando, cioé\n",
    "        #fa tutto il resto, poi questo, e poi cambia tab \n",
    "    import wget \n",
    "    \n",
    "    driver.find_element_by_link_text('GEOJSON').click()\n",
    "    #url = driver.page_source\n",
    "    url = driver.current_url\n",
    "    print(url)\n",
    "    wget.download(url)#,out=\"\") # download\n",
    "        \n",
    "        # la versione sotto funziona ma scarica tutto, compresi i tag html che mi danno fastidio\n",
    "        #with open('page.geojson', 'w') as f:\n",
    "        #    f.write(driver.page_source)\n",
    "        \n",
    "        #******************************"
   ]
  },
  {
   "cell_type": "code",
   "execution_count": null,
   "metadata": {},
   "outputs": [],
   "source": [
    "#dirgli in qualche maniera di controllare se nella pagina è presente un tag <a> con valore testo \"GEOJSON\"\n",
    "#se c'è di scaricarlo \n",
    "\n",
    "def ctrl_t():\n",
    "#from selenium.common.exceptions import NoSuchElementException\n",
    "    try:\n",
    "\n",
    "        elem = driver.find_element_by_id(id_n_pulsante_m)\n",
    "        # inizio parte che trova ed apre il menu a tendina \n",
    "\n",
    "        driver.find_element_by_id(id_n_pulsante_m).click()     # seleziono il pulsante menu a tendina\n",
    "    \n",
    "        tendina = driver.find_element_by_id(id_n_menu_tenina)  # individua il menu a tendina\n",
    "        tendina.find_element_by_css_selector(\"a[title='Scarica']\").click()  # fa click su scarica\n",
    "        # a questo punto il dawnload deve ancora partire, lo fa la funzione \"get_CSV()\" \n",
    "\n",
    "        # fine parte che apre il menu a tendina\n",
    "        #print(\"vado ad eseguire coord\")\n",
    "        #coord()\n",
    "        print(\"sono arrivato in fondo al primo caso\")\n",
    "    \n",
    "    except NoSuchElementException:   # eccezione in quanto è una sola la pagina di questo tipo, diversa dalle altre\n",
    "        #controlla e scarica i due file da link\n",
    "        links_div = driver.find_elements_by_class_name(\"t20CVS\")    # individua i link e li mette in links_div\n",
    "        for i in links_div:\n",
    "            print(i)\n",
    "            i.find_element_by_tag_name('a').click()    # fa click sui link per scaricarli\n",
    "        coord()\n",
    "        print(\"fine della eccezione\")"
   ]
  },
  {
   "cell_type": "code",
   "execution_count": null,
   "metadata": {},
   "outputs": [],
   "source": [
    "#va messo in un for che mi cicla tutti i tab\n",
    "ctrl_t()"
   ]
  },
  {
   "cell_type": "markdown",
   "metadata": {},
   "source": [
    " Questa parte qui sotto va bene cosi serve a scaricare il csv\n",
    " "
   ]
  },
  {
   "cell_type": "markdown",
   "metadata": {},
   "source": [
    "Per poter eseguire questa parte qui, è sufficiente commentare coord e continuare ad eseguire il codice per vedere se get_CSV() fa quello che deve \n",
    "\n",
    "Dopo andrà comunque resa eseguibile normalmente insieme a coord() in ctrl_t() \n",
    "\n",
    "è questo il punto problematico visto che il server della regione impiega troppo tempo a rispondere qui"
   ]
  },
  {
   "cell_type": "code",
   "execution_count": null,
   "metadata": {},
   "outputs": [],
   "source": [
    "def get_CSV():\n",
    "   \n",
    "    id_csv = \"apexir_dl_CSV\"                    # individua l'id del csv \n",
    "    driver.find_element_by_id(id_csv).click()   # scarica il csv\n",
    "    \n",
    "    #driver.set_page_load_timeout(30) \n",
    "\n",
    "    ''' \n",
    "###################################\n",
    "    def every_downloads_chrome(driver):\n",
    "        if not driver.current_url.startswith(\"chrome://downloads\"):\n",
    "            driver.get(\"chrome://downloads/\")\n",
    "        return driver.execute_script(\"\"\"\n",
    "            var items = document.querySelector('downloads-manager')\n",
    "                .shadowRoot.getElementById('downloadsList').items;\n",
    "            if (items.every(e => e.state === \"COMPLETE\"))\n",
    "                return items.map(e => e.fileUrl || e.file_url);\n",
    "            \"\"\")\n",
    "\n",
    "\n",
    "    # waits for all the files to be completed and returns the paths\n",
    "    paths = WebDriverWait(driver, 120, 1).until(every_downloads_chrome)\n",
    "    print(paths)\n",
    "###################################    \n",
    "    '''\n",
    "    #return 1\n"
   ]
  },
  {
   "cell_type": "markdown",
   "metadata": {},
   "source": [
    "anche qui forse ci vorrebbe un piccolo tempo di attesa \n",
    "\n",
    "verificare se eseguendolo headless non è necessario"
   ]
  },
  {
   "cell_type": "code",
   "execution_count": null,
   "metadata": {},
   "outputs": [],
   "source": [
    "#driver.switch_to.window(driver.window_handles[1]) #mi fa muovere tra i tab\n",
    "# len(driver.window_handles) # mi da il numero di tab aperti nella pagina corrente\n",
    "for i in range(1,len(driver.window_handles)):\n",
    "    driver.switch_to.window(driver.window_handles[i])\n",
    "    #################################\n",
    "    tmp = driver.find_elements_by_css_selector(\"img[title='Rimuovi filtro']\")\n",
    "    try:\n",
    "        while (len(tmp) != 0):#tmp != []\n",
    "            driver.find_element_by_css_selector(\"img[title='Rimuovi filtro']\").click()\n",
    "            tmp = driver.find_elements_by_css_selector(\"img[title='Rimuovi filtro']\")\n",
    "    except:\n",
    "        try:\n",
    "            while (len(tmp) != 0):#tmp != []\n",
    "                driver.find_element_by_css_selector(\"img[title='Rimuovi filtro']\").click()\n",
    "                tmp = driver.find_elements_by_css_selector(\"img[title='Rimuovi filtro']\")            \n",
    "        except:\n",
    "            print(\"An exception occurred\")\n",
    "    ################################\n",
    "    ctrl_t()\n",
    "    driver.implicitly_wait(2)\n",
    "    get_CSV()\n",
    "    #*********************************************** inizio aggiunto per test\n",
    "    '''\n",
    "    def every_downloads_chrome(driver):\n",
    "        if not driver.current_url.startswith(\"chrome://downloads\"):\n",
    "            driver.get(\"chrome://downloads/\")\n",
    "        return driver.execute_script(\"\"\"\n",
    "            var items = document.querySelector('downloads-manager')\n",
    "                .shadowRoot.getElementById('downloadsList').items;\n",
    "            if (items.every(e => e.state === \"COMPLETE\"))\n",
    "                return items.map(e => e.fileUrl || e.file_url);\n",
    "            \"\"\")\n",
    "\n",
    "\n",
    "    # waits for all the files to be completed and returns the paths\n",
    "    paths = WebDriverWait(driver, 120, 1).until(every_downloads_chrome)\n",
    "    print(paths)\n",
    "    '''\n",
    "    #***********************************************\n",
    "    \n",
    "    #***********************************************\n",
    "    #driver.set_page_load_timeout(600)\n",
    "    #*********************************************** fine aggiunto per test\n",
    "\n",
    "print(\"finito\")"
   ]
  },
  {
   "cell_type": "code",
   "execution_count": null,
   "metadata": {},
   "outputs": [],
   "source": [
    "get_CSV()\n",
    "#driver.implicitly_wait(600)"
   ]
  },
  {
   "cell_type": "markdown",
   "metadata": {},
   "source": [
    "webdriver.get('about://blank')\n",
    "my_script = 'var a = document.createElement(\"a\");' \\\n",
    "            'var linkText = document.createTextNode(\"%s\");' \\\n",
    "            'a.appendChild(linkText);' \\\n",
    "            'a.title = \"%s\";' \\\n",
    "            'a.href = \"%s\";' \\\n",
    "            'document.body.appendChild(a);' % \\\n",
    "            (url_to_use, url_to_use, url_to_use)\n",
    "webdriver.execute_script(my_script)\n",
    "webdriver.set_page_load_timeout(20)\n",
    "webdriver.click_element_by_text('css=a', url_to_use)\n",
    "if page.loaded() is False:\n",
    "    webdriver.click_element_by_text('css=a', url_to_use)\n",
    "if page.loaded() is False:\n",
    "    webdriver.click_element_by_text('css=a', url_to_use)\n",
    "if page.loaded() is False:\n",
    "    webdriver.click_element_by_text('css=a', url_to_use)"
   ]
  },
  {
   "cell_type": "code",
   "execution_count": null,
   "metadata": {},
   "outputs": [],
   "source": [
    "driver.quit()"
   ]
  },
  {
   "cell_type": "code",
   "execution_count": null,
   "metadata": {},
   "outputs": [],
   "source": []
  }
 ],
 "metadata": {
  "kernelspec": {
   "display_name": "Python 3",
   "language": "python",
   "name": "python3"
  },
  "language_info": {
   "codemirror_mode": {
    "name": "ipython",
    "version": 3
   },
   "file_extension": ".py",
   "mimetype": "text/x-python",
   "name": "python",
   "nbconvert_exporter": "python",
   "pygments_lexer": "ipython3",
   "version": "3.6.9"
  }
 },
 "nbformat": 4,
 "nbformat_minor": 2
}
