{
 "cells": [
  {
   "cell_type": "markdown",
   "metadata": {},
   "source": [
    "questa prima parte va ad importare tutto quello che mi servirà dopo e fa partire Chrome"
   ]
  },
  {
   "cell_type": "code",
   "execution_count": 1,
   "metadata": {},
   "outputs": [],
   "source": [
    "from selenium import webdriver                         # import the webdriver API \n",
    "from selenium.webdriver.common.keys import Keys        # import the keys of the keyboard such as RETURNS, F1, ALT, ...\n",
    "import re                                              # import regular expression\n",
    "\n",
    "from selenium.common.exceptions import NoSuchElementException #importo l'eccezione, in modo che la possa riconoscere\n",
    "from selenium.webdriver.common.by import By\n",
    "from selenium.webdriver.support.ui import WebDriverWait\n",
    "from selenium.webdriver.support import expected_conditions as EC\n",
    "\n",
    "\n",
    "from selenium.webdriver.chrome.options import Options\n",
    "chromeOptions = Options()  \n",
    "#chromeOptions.add_argument(\"--headless\") \n",
    "#driver = webdriver.Chrome(options=chromeOptions) # lancio il driver in modalità Headless\n",
    "\n",
    "driver = webdriver.Chrome()                            # run the browser\n",
    "                                           "
   ]
  },
  {
   "cell_type": "markdown",
   "metadata": {},
   "source": [
    "Adesso vado a recuperare i links salvati nel file \"dataLinks.json\" e li stampo a schermo"
   ]
  },
  {
   "cell_type": "code",
   "execution_count": 2,
   "metadata": {},
   "outputs": [
    {
     "name": "stdout",
     "output_type": "stream",
     "text": [
      "[{'link': 'http://sira.arpat.toscana.it/apex2/f?p=QUALACQUA_MAS'}, {'link': 'http://sira.arpat.toscana.it/apex2/f?p=QUALACQUA_MAT'}, {'link': 'http://sira.arpat.toscana.it/apex2/f?p=QUALACQUA_MAR'}, {'link': 'http://sira.arpat.toscana.it/apex2/f?p=QUALACQUA_POT'}, {'link': 'http://sira.arpat.toscana.it/apex2/f?p=QUALACQUA_VTP'}, {'link': 'http://sira.arpat.toscana.it/apex2/f?p=QUALACQUA_VTM'}, {'link': 'http://sira.arpat.toscana.it/apex2/f?p=QUALACQUA_BAL'}, {'link': 'http://sira.arpat.toscana.it/apex2/f?p=QUALACQUA_NIT'}, {'link': 'http://sira.arpat.toscana.it/apex2/f?p=QUALACQUA_FIT'}]\n",
      "***************************\n",
      "http://sira.arpat.toscana.it/apex2/f?p=QUALACQUA_MAS\n",
      "http://sira.arpat.toscana.it/apex2/f?p=QUALACQUA_MAT\n",
      "http://sira.arpat.toscana.it/apex2/f?p=QUALACQUA_MAR\n",
      "http://sira.arpat.toscana.it/apex2/f?p=QUALACQUA_POT\n",
      "http://sira.arpat.toscana.it/apex2/f?p=QUALACQUA_VTP\n",
      "http://sira.arpat.toscana.it/apex2/f?p=QUALACQUA_VTM\n",
      "http://sira.arpat.toscana.it/apex2/f?p=QUALACQUA_BAL\n",
      "http://sira.arpat.toscana.it/apex2/f?p=QUALACQUA_NIT\n",
      "http://sira.arpat.toscana.it/apex2/f?p=QUALACQUA_FIT\n"
     ]
    }
   ],
   "source": [
    "import json\n",
    "\n",
    "links = []    # dichiaro l'array links\n",
    "\n",
    "with open('dataLinks.json') as json_file:\n",
    "    dataLinks = json.load(json_file)\n",
    "    print(dataLinks)\n",
    "    \n",
    "    print(\"***************************\")\n",
    "\n",
    "    for link in dataLinks:\n",
    "        print(link[\"link\"])\n",
    "        \n",
    "        links.append(link[\"link\"])    # metto i links recuperati da \"dataLinks\", in \"links\"  \n"
   ]
  },
  {
   "cell_type": "markdown",
   "metadata": {},
   "source": [
    "questa parte seleziona i link di mio interesse ed apre tutti i tab contenenti quelle pagine"
   ]
  },
  {
   "cell_type": "code",
   "execution_count": 3,
   "metadata": {},
   "outputs": [],
   "source": [
    "# parameters and output data\n",
    "#    url         = links[0]  # link alla pagina\n",
    "id_n_pulsante_m = \"apexir_ACTIONSMENUROOT\"  # id del pulsante menu a tendina \n",
    "id_n_menu_tenina = \"apexir_ACTIONSMENU\"     # id menu a tendina \n",
    "        \n",
    "#    driver.get(url)  # get the web page\n",
    "select = re.compile(\"(\\w*MAS$)|(\\w*MAT$)|(\\w*POT$)\")    #espressione regolare per selezionare i link di mio interesse\n",
    "i = 0    #la prima tab\n",
    "    \n",
    "for link in links:\n",
    "    if (select.search(links[i])):# usa select come valore di controllo, vede se corrisponde ad una delle opzioni\n",
    "        driver.execute_script(\"window.open('about:blank', 'tab\"+str(i)+\"');\")\n",
    "        driver.switch_to.window(\"tab\"+str(i))\n",
    "        driver.get(links[i])\n",
    "        \n",
    "    i+=1   # serve a dirgli il numero di tab da usare  \n"
   ]
  },
  {
   "cell_type": "markdown",
   "metadata": {},
   "source": [
    "la parte sotto trova i filtri e deve toglierli"
   ]
  },
  {
   "cell_type": "code",
   "execution_count": 4,
   "metadata": {},
   "outputs": [
    {
     "data": {
      "text/plain": [
       "1"
      ]
     },
     "execution_count": 4,
     "metadata": {},
     "output_type": "execute_result"
    }
   ],
   "source": [
    "# inizio parte che individua e toglie i filtri *****************************************************************\n",
    "temp = driver.find_elements_by_css_selector(\"img[title='Rimuovi filtro']\")\n",
    "len(temp)  \n",
    "\n"
   ]
  },
  {
   "cell_type": "markdown",
   "metadata": {},
   "source": [
    "questa parte sotto ha due except in quanto nella versione precedente di chromeDriver dava problemi con i tempi di attesa "
   ]
  },
  {
   "cell_type": "code",
   "execution_count": 5,
   "metadata": {},
   "outputs": [
    {
     "name": "stdout",
     "output_type": "stream",
     "text": [
      "An exception occurred\n"
     ]
    }
   ],
   "source": [
    "    tmp = temp\n",
    "    try:\n",
    "        while (len(tmp) != 0):#tmp != []\n",
    "            driver.find_element_by_css_selector(\"img[title='Rimuovi filtro']\").click()\n",
    "            tmp = driver.find_elements_by_css_selector(\"img[title='Rimuovi filtro']\")\n",
    "    except:\n",
    "        try:\n",
    "            while (len(tmp) != 0):#tmp != []\n",
    "                driver.find_element_by_css_selector(\"img[title='Rimuovi filtro']\").click()\n",
    "                tmp = driver.find_elements_by_css_selector(\"img[title='Rimuovi filtro']\")            \n",
    "        except:\n",
    "            print(\"An exception occurred\")\n",
    "\n",
    "# fine parte che gestisce i filtri *******************************************************************************"
   ]
  },
  {
   "cell_type": "markdown",
   "metadata": {},
   "source": [
    " Questa parte qui sotto servirebbe a scaricare il csv ma a causa di un problema riscontrato con il server della regione, riuslta impossibile scaricare il csv tramite programma.\n",
    " "
   ]
  },
  {
   "cell_type": "code",
   "execution_count": 6,
   "metadata": {},
   "outputs": [],
   "source": [
    "def get_CSV():\n",
    "   \n",
    " #   id_csv = \"apexir_dl_CSV\"                    # individua l'id del csv \n",
    "#    driver.find_element_by_id(id_csv).click()   # scarica il csv\n",
    "    \n",
    "    print(\"Ho scaricqato il file :)\")            # li faccio stampare questo come variante del file che non può scaricaere \n",
    "                                                 # la causa è il problema che le dicevo nella chiamata \n",
    "    #return 1\n"
   ]
  },
  {
   "cell_type": "markdown",
   "metadata": {},
   "source": [
    "Questo serve a scaricare la pagina usando wget\n",
    "\n",
    "si rende necessario in quanto le coordinate geografiche non hanno un link scaricabile, ma un link alla pagina con i dati"
   ]
  },
  {
   "cell_type": "code",
   "execution_count": 7,
   "metadata": {},
   "outputs": [],
   "source": [
    "def coord():\n",
    "        #****************************** nella pagina dove sono, cerca il link con quel nome\n",
    "        #questo è inserito in ctrl_t() in modo che quando fa i vari controlli per scaricare, controlla anche questo\n",
    "        #inoltre per semplicità è inserito come ultimo comando, cioé\n",
    "        #fa tutto il resto, poi questo, e poi cambia tab \n",
    "        \n",
    "    import wget \n",
    "    \n",
    "    driver.find_element_by_link_text('GEOJSON').click()\n",
    "    #url = driver.page_source\n",
    "    url = driver.current_url\n",
    "    print(url)\n",
    "    wget.download(url)#,out=\"\") # download\n",
    "        \n",
    "        # la versione sotto funziona ma scarica tutto, compresi i tag html che mi danno fastidio\n",
    "        #with open('page.geojson', 'w') as f:\n",
    "        #    f.write(driver.page_source)\n",
    "        \n",
    "        #******************************"
   ]
  },
  {
   "cell_type": "markdown",
   "metadata": {},
   "source": [
    "Parte che serve ad interagire (aprire e selezionare) le parti nella tendina per scaricare il csv. E' anche presente la parte che dovrebbe scaricare effettivamente il file get_CSV()"
   ]
  },
  {
   "cell_type": "code",
   "execution_count": 8,
   "metadata": {},
   "outputs": [],
   "source": [
    "\n",
    "def ctrl_t():\n",
    "\n",
    "    try:\n",
    "\n",
    "        elem = driver.find_element_by_id(id_n_pulsante_m)\n",
    "        \n",
    "        # inizio parte che trova ed apre il menu a tendina \n",
    "        driver.find_element_by_id(id_n_pulsante_m).click()     # seleziono il pulsante menu a tendina\n",
    "    \n",
    "        tendina = driver.find_element_by_id(id_n_menu_tenina)  # individua il menu a tendina\n",
    "        tendina.find_element_by_css_selector(\"a[title='Scarica']\").click()  # fa click su scarica\n",
    "        # a questo punto il dawnload deve ancora partire, lo fa la funzione \"get_CSV()\" \n",
    "        \n",
    "        get_CSV()\n",
    "        # fine parte che apre il menu a tendina\n",
    "\n",
    "        print(\"sono arrivato in fondo al primo caso\")\n",
    "    \n",
    "    except NoSuchElementException:   # eccezione in quanto è una sola la pagina di questo tipo, diversa dalle altre\n",
    "        #controlla e scarica i due file da link\n",
    "        links_div = driver.find_elements_by_class_name(\"t20CVS\")    # individua i link e li mette in links_div\n",
    "        for i in links_div:\n",
    "            print(i)\n",
    "            i.find_element_by_tag_name('a').click()    # fa click sui link per scaricarli\n",
    "        coord()\n",
    "        print(\"fine della eccezione\")"
   ]
  },
  {
   "cell_type": "code",
   "execution_count": 9,
   "metadata": {},
   "outputs": [],
   "source": [
    "#va messo in un for che mi cicla tutti i tab\n",
    "#ctrl_t()"
   ]
  },
  {
   "cell_type": "markdown",
   "metadata": {},
   "source": [
    "anche qui forse ci vorrebbe un piccolo tempo di attesa \n",
    "\n",
    "verificare se eseguendolo headless non è necessario"
   ]
  },
  {
   "cell_type": "code",
   "execution_count": 10,
   "metadata": {},
   "outputs": [
    {
     "name": "stdout",
     "output_type": "stream",
     "text": [
      "An exception occurred\n",
      "Ho scaricqato il file :)\n",
      "sono arrivato in fondo al primo caso\n",
      "<selenium.webdriver.remote.webelement.WebElement (session=\"8b3739b5b79fe04534980c23b02747e6\", element=\"0f3775b5-3cdd-4099-9bb6-291256a1a255\")>\n",
      "<selenium.webdriver.remote.webelement.WebElement (session=\"8b3739b5b79fe04534980c23b02747e6\", element=\"b4bd1333-c343-4b38-9f18-b8bdbf99e546\")>\n",
      "http://sira.arpat.toscana.it/sira/Acque/GEOJSON/MAT_STAZIONI.geojson\n",
      "fine della eccezione\n",
      "Ho scaricqato il file :)\n",
      "sono arrivato in fondo al primo caso\n",
      "finito\n"
     ]
    }
   ],
   "source": [
    "#driver.switch_to.window(driver.window_handles[1]) #mi fa muovere tra i tab\n",
    "# len(driver.window_handles) # mi da il numero di tab aperti nella pagina corrente\n",
    "for i in range(1,len(driver.window_handles)):\n",
    "    driver.switch_to.window(driver.window_handles[i])\n",
    "    #################################\n",
    "    tmp = driver.find_elements_by_css_selector(\"img[title='Rimuovi filtro']\")\n",
    "    try:\n",
    "        while (len(tmp) != 0):#tmp != []\n",
    "            driver.find_element_by_css_selector(\"img[title='Rimuovi filtro']\").click()\n",
    "            tmp = driver.find_elements_by_css_selector(\"img[title='Rimuovi filtro']\")\n",
    "    except:\n",
    "        try:\n",
    "            while (len(tmp) != 0):#tmp != []\n",
    "                driver.find_element_by_css_selector(\"img[title='Rimuovi filtro']\").click()\n",
    "                tmp = driver.find_elements_by_css_selector(\"img[title='Rimuovi filtro']\")            \n",
    "        except:\n",
    "            print(\"An exception occurred\")\n",
    "    ################################\n",
    "    ctrl_t()\n",
    "    driver.implicitly_wait(2)\n",
    "    #get_CSV()\n",
    "\n",
    "print(\"finito\")"
   ]
  },
  {
   "cell_type": "code",
   "execution_count": null,
   "metadata": {},
   "outputs": [],
   "source": [
    "#get_CSV()\n",
    "#driver.implicitly_wait(600)"
   ]
  },
  {
   "cell_type": "code",
   "execution_count": null,
   "metadata": {},
   "outputs": [],
   "source": [
    "driver.quit()"
   ]
  },
  {
   "cell_type": "code",
   "execution_count": null,
   "metadata": {},
   "outputs": [],
   "source": []
  }
 ],
 "metadata": {
  "kernelspec": {
   "display_name": "Python 3",
   "language": "python",
   "name": "python3"
  },
  "language_info": {
   "codemirror_mode": {
    "name": "ipython",
    "version": 3
   },
   "file_extension": ".py",
   "mimetype": "text/x-python",
   "name": "python",
   "nbconvert_exporter": "python",
   "pygments_lexer": "ipython3",
   "version": "3.6.9"
  }
 },
 "nbformat": 4,
 "nbformat_minor": 2
}
