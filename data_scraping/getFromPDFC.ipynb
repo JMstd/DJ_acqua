{
 "cells": [
  {
   "cell_type": "code",
   "execution_count": 1,
   "metadata": {},
   "outputs": [
    {
     "name": "stdout",
     "output_type": "stream",
     "text": [
      "[{'extraction_method': 'stream', 'top': 404.91302, 'left': 32.6634, 'width': 484.521240234375, 'height': 406.1573486328125, 'right': 517.18463, 'bottom': 811.0704, 'data': [[{'top': 420.81, 'left': 42.52, 'width': 422.8800048828125, 'height': 6.830008506774902, 'text': 'Tavola 1.1 – Prelievi di acqua per uso potabile per tipologia di fonte e regione. Anno 2015 (volumi in milioni di metri'}], [{'top': 431.81, 'left': 87.19, 'width': 163.8199920654297, 'height': 6.820000171661377, 'text': 'cubi, pro capite in litri per abitante al giorno)'}], [{'top': 450.82, 'left': 43.52, 'width': 424.7099914550781, 'height': 13.059993743896484, 'text': 'Prelevato pro REGIONI Sorgente Pozzo Corso d’acqua superfi ciale bacino artifi ciale Lago naturale o Acque marine o salmastre Totale capite'}], [{'top': 470.6, 'left': 43.51, 'width': 422.77001953125, 'height': 4.659999847412109, 'text': 'Piemonte  160,7  415,4  49,9  38,2 - 664,2 412'}], [{'top': 481.43, 'left': 43.52, 'width': 422.760009765625, 'height': 4.659999847412109, 'text': 'Valle d’Aosta/Vallée d’Aoste  47,1  6,1 - - - 53,2 1.140'}], [{'top': 492.21, 'left': 43.52, 'width': 422.7699890136719, 'height': 4.659999847412109, 'text': 'Liguria  31,0  130,4  38,0  59,0 - 258,4 449'}], [{'top': 502.98, 'left': 43.53, 'width': 422.77001953125, 'height': 4.659999847412109, 'text': 'Lombardia  276,8  1.166,1  0,8  43,1 - 1.486,9 407'}], [{'top': 513.75, 'left': 43.53, 'width': 422.780029296875, 'height': 4.659999847412109, 'text': 'Trentino-Alto Adige/Südtirol  193,0  34,0  3,5  0,6 - 231,1 599'}], [{'top': 524.55, 'left': 43.55, 'width': 422.75, 'height': 4.630000114440918, 'text': 'Bolzano-Bozen  64,5  18,9 - - - 83,4 440'}], [{'top': 535.33, 'left': 43.54, 'width': 422.7799987792969, 'height': 4.630000114440918, 'text': 'Trento  128,5  15,1  3,5  0,6 - 147,7 752'}], [{'top': 546.07, 'left': 43.55, 'width': 422.7699890136719, 'height': 4.659999847412109, 'text': 'Veneto  179,5  472,9  64,8  2,0 - 719,2 400'}], [{'top': 556.84, 'left': 43.56, 'width': 422.7699890136719, 'height': 4.659999847412109, 'text': 'Friuli-Venezia Giulia  53,2  163,6  6,3  1,3 - 224,4 502'}], [{'top': 567.62, 'left': 43.57, 'width': 422.760009765625, 'height': 4.659999847412109, 'text': 'Emilia-Romagna  32,5  290,5  107,2  57,3 - 487,6 300'}], [{'top': 578.39, 'left': 43.57, 'width': 422.77001953125, 'height': 4.659999847412109, 'text': 'Toscana  106,8  226,3  115,4  16,1 1,0 465,6 340'}], [{'top': 589.16, 'left': 43.58, 'width': 422.760009765625, 'height': 4.659999847412109, 'text': 'Umbria  44,7  70,0 - - - 114,7 352'}], [{'top': 599.94, 'left': 43.58, 'width': 422.7699890136719, 'height': 4.659999847412109, 'text': 'Marche  117,3  29,5  2,3  25,0 - 174,1 308'}], [{'top': 610.71, 'left': 43.58, 'width': 422.7699890136719, 'height': 4.659999847412109, 'text': 'Lazio  823,3  309,0  3,8  38,7 - 1.174,9 546'}], [{'top': 621.48, 'left': 43.59, 'width': 422.7799987792969, 'height': 4.659999847412109, 'text': 'Abruzzo  229,1  44,7  8,0 - - 281,8 581'}], [{'top': 632.26, 'left': 43.6, 'width': 422.77001953125, 'height': 4.659999847412109, 'text': 'Molise  117,9  46,1 -  13,9 - 178,0 1.559'}], [{'top': 643.03, 'left': 43.6, 'width': 422.77001953125, 'height': 4.659999847412109, 'text': 'Campania  577,3  397,6 -  0,4 - 975,3 456'}], [{'top': 653.8, 'left': 43.61, 'width': 422.760009765625, 'height': 4.659999847412109, 'text': 'Puglia  0,4  72,0 -  101,4 - 173,8 117'}], [{'top': 664.57, 'left': 43.6, 'width': 422.77001953125, 'height': 4.659999847412109, 'text': 'Basilicata  57,5  4,8 -  255,1 - 317,4 1.512'}], [{'top': 675.35, 'left': 43.61, 'width': 422.7699890136719, 'height': 4.659999847412109, 'text': 'Calabria  191,9  183,7  52,8  5,5 - 434,1 603'}], [{'top': 686.12, 'left': 43.62, 'width': 422.7699890136719, 'height': 4.659999847412109, 'text': 'Sicilia  167,5  455,9  2,4  124,6 10,3 760,7 410'}], [{'top': 696.89, 'left': 43.63, 'width': 422.77001953125, 'height': 4.659999847412109, 'text': 'Sardegna  36,5  30,8  0,8  244,4 - 312,5 516'}], [{'top': 707.47, 'left': 43.64, 'width': 422.760009765625, 'height': 4.849999904632568, 'text': 'Nord-ovest 515,7 1.718,1 88,7 140,3 - 2.462,8 418'}], [{'top': 718.25, 'left': 43.64, 'width': 422.75, 'height': 4.849999904632568, 'text': 'Nord-est 458,2 961,0 181,8 61,2 - 1.662,2 391'}], [{'top': 729.02, 'left': 43.63, 'width': 422.760009765625, 'height': 4.849999904632568, 'text': 'Centro 1.092,2 634,8 121,4 79,8 1,0 1.929,2 438'}], [{'top': 739.79, 'left': 43.62, 'width': 422.7699890136719, 'height': 4.849999904632568, 'text': 'Sud 1.174,2 748,9 60,8 376,4 - 2.360,3 458'}], [{'top': 750.57, 'left': 43.62, 'width': 422.7699890136719, 'height': 4.849999904632568, 'text': 'Isole 204,0 486,7 3,3 369,0 10,3 1.073,2 436'}], [{'top': 761.4, 'left': 43.63, 'width': 422.760009765625, 'height': 4.849999904632568, 'text': 'ITALIA 3.444,3 4.549,5 456,0 1.026,6 11,2 9.487,7 428'}], [{'top': 773.23, 'left': 43.62, 'width': 137.8100128173828, 'height': 4.340000152587891, 'text': 'Fonte: Istat, Censimento delle acque per uso civile'}]]}]\n"
     ]
    }
   ],
   "source": [
    "from tabula import read_pdf\n",
    "\n",
    "# [top,left,bottom,width] (dati espressi in cm)\n",
    "box = [143.18, 11.55, 286.80, 182.88]\n",
    "# fattore di conversione (read_pdf vuole i dati\n",
    "# in punti PDF mentre noi li abbiamo in cm)\n",
    "fc = 28.28\n",
    "         \n",
    "for i in range(0, len(box)):\n",
    "    box[i] /= 10\n",
    "    box[i] *= fc\n",
    "    \n",
    "df = read_pdf(\"dati/Utilizzo-e-qualità-della-risorsa-idrica-in-Italia.pdf\", pages='9',area=[box],output_format=\"json\")\n",
    "\n",
    "print(df)\n",
    "\n",
    "# il codice sopra, mi stampa tutto quello estratto dal pdf\n",
    "\n",
    "#regioni = []\n",
    "#for i in range(0,len(df)):\n",
    "#    regioni.append(df[i]['data'][0][0]['text'])\n",
    "\n",
    "#regioni"
   ]
  },
  {
   "cell_type": "code",
   "execution_count": 2,
   "metadata": {},
   "outputs": [
    {
     "data": {
      "text/plain": [
       "[{'bottom': 811.0704,\n",
       "  'data': [[{'height': 6.830008506774902,\n",
       "     'left': 42.52,\n",
       "     'text': 'Tavola 1.1 – Prelievi di acqua per uso potabile per tipologia di fonte e regione. Anno 2015 (volumi in milioni di metri',\n",
       "     'top': 420.81,\n",
       "     'width': 422.8800048828125}],\n",
       "   [{'height': 6.820000171661377,\n",
       "     'left': 87.19,\n",
       "     'text': 'cubi, pro capite in litri per abitante al giorno)',\n",
       "     'top': 431.81,\n",
       "     'width': 163.8199920654297}],\n",
       "   [{'height': 13.059993743896484,\n",
       "     'left': 43.52,\n",
       "     'text': 'Prelevato pro REGIONI Sorgente Pozzo Corso d’acqua superfi ciale bacino artifi ciale Lago naturale o Acque marine o salmastre Totale capite',\n",
       "     'top': 450.82,\n",
       "     'width': 424.7099914550781}],\n",
       "   [{'height': 4.659999847412109,\n",
       "     'left': 43.51,\n",
       "     'text': 'Piemonte  160,7  415,4  49,9  38,2 - 664,2 412',\n",
       "     'top': 470.6,\n",
       "     'width': 422.77001953125}],\n",
       "   [{'height': 4.659999847412109,\n",
       "     'left': 43.52,\n",
       "     'text': 'Valle d’Aosta/Vallée d’Aoste  47,1  6,1 - - - 53,2 1.140',\n",
       "     'top': 481.43,\n",
       "     'width': 422.760009765625}],\n",
       "   [{'height': 4.659999847412109,\n",
       "     'left': 43.52,\n",
       "     'text': 'Liguria  31,0  130,4  38,0  59,0 - 258,4 449',\n",
       "     'top': 492.21,\n",
       "     'width': 422.7699890136719}],\n",
       "   [{'height': 4.659999847412109,\n",
       "     'left': 43.53,\n",
       "     'text': 'Lombardia  276,8  1.166,1  0,8  43,1 - 1.486,9 407',\n",
       "     'top': 502.98,\n",
       "     'width': 422.77001953125}],\n",
       "   [{'height': 4.659999847412109,\n",
       "     'left': 43.53,\n",
       "     'text': 'Trentino-Alto Adige/Südtirol  193,0  34,0  3,5  0,6 - 231,1 599',\n",
       "     'top': 513.75,\n",
       "     'width': 422.780029296875}],\n",
       "   [{'height': 4.630000114440918,\n",
       "     'left': 43.55,\n",
       "     'text': 'Bolzano-Bozen  64,5  18,9 - - - 83,4 440',\n",
       "     'top': 524.55,\n",
       "     'width': 422.75}],\n",
       "   [{'height': 4.630000114440918,\n",
       "     'left': 43.54,\n",
       "     'text': 'Trento  128,5  15,1  3,5  0,6 - 147,7 752',\n",
       "     'top': 535.33,\n",
       "     'width': 422.7799987792969}],\n",
       "   [{'height': 4.659999847412109,\n",
       "     'left': 43.55,\n",
       "     'text': 'Veneto  179,5  472,9  64,8  2,0 - 719,2 400',\n",
       "     'top': 546.07,\n",
       "     'width': 422.7699890136719}],\n",
       "   [{'height': 4.659999847412109,\n",
       "     'left': 43.56,\n",
       "     'text': 'Friuli-Venezia Giulia  53,2  163,6  6,3  1,3 - 224,4 502',\n",
       "     'top': 556.84,\n",
       "     'width': 422.7699890136719}],\n",
       "   [{'height': 4.659999847412109,\n",
       "     'left': 43.57,\n",
       "     'text': 'Emilia-Romagna  32,5  290,5  107,2  57,3 - 487,6 300',\n",
       "     'top': 567.62,\n",
       "     'width': 422.760009765625}],\n",
       "   [{'height': 4.659999847412109,\n",
       "     'left': 43.57,\n",
       "     'text': 'Toscana  106,8  226,3  115,4  16,1 1,0 465,6 340',\n",
       "     'top': 578.39,\n",
       "     'width': 422.77001953125}],\n",
       "   [{'height': 4.659999847412109,\n",
       "     'left': 43.58,\n",
       "     'text': 'Umbria  44,7  70,0 - - - 114,7 352',\n",
       "     'top': 589.16,\n",
       "     'width': 422.760009765625}],\n",
       "   [{'height': 4.659999847412109,\n",
       "     'left': 43.58,\n",
       "     'text': 'Marche  117,3  29,5  2,3  25,0 - 174,1 308',\n",
       "     'top': 599.94,\n",
       "     'width': 422.7699890136719}],\n",
       "   [{'height': 4.659999847412109,\n",
       "     'left': 43.58,\n",
       "     'text': 'Lazio  823,3  309,0  3,8  38,7 - 1.174,9 546',\n",
       "     'top': 610.71,\n",
       "     'width': 422.7699890136719}],\n",
       "   [{'height': 4.659999847412109,\n",
       "     'left': 43.59,\n",
       "     'text': 'Abruzzo  229,1  44,7  8,0 - - 281,8 581',\n",
       "     'top': 621.48,\n",
       "     'width': 422.7799987792969}],\n",
       "   [{'height': 4.659999847412109,\n",
       "     'left': 43.6,\n",
       "     'text': 'Molise  117,9  46,1 -  13,9 - 178,0 1.559',\n",
       "     'top': 632.26,\n",
       "     'width': 422.77001953125}],\n",
       "   [{'height': 4.659999847412109,\n",
       "     'left': 43.6,\n",
       "     'text': 'Campania  577,3  397,6 -  0,4 - 975,3 456',\n",
       "     'top': 643.03,\n",
       "     'width': 422.77001953125}],\n",
       "   [{'height': 4.659999847412109,\n",
       "     'left': 43.61,\n",
       "     'text': 'Puglia  0,4  72,0 -  101,4 - 173,8 117',\n",
       "     'top': 653.8,\n",
       "     'width': 422.760009765625}],\n",
       "   [{'height': 4.659999847412109,\n",
       "     'left': 43.6,\n",
       "     'text': 'Basilicata  57,5  4,8 -  255,1 - 317,4 1.512',\n",
       "     'top': 664.57,\n",
       "     'width': 422.77001953125}],\n",
       "   [{'height': 4.659999847412109,\n",
       "     'left': 43.61,\n",
       "     'text': 'Calabria  191,9  183,7  52,8  5,5 - 434,1 603',\n",
       "     'top': 675.35,\n",
       "     'width': 422.7699890136719}],\n",
       "   [{'height': 4.659999847412109,\n",
       "     'left': 43.62,\n",
       "     'text': 'Sicilia  167,5  455,9  2,4  124,6 10,3 760,7 410',\n",
       "     'top': 686.12,\n",
       "     'width': 422.7699890136719}],\n",
       "   [{'height': 4.659999847412109,\n",
       "     'left': 43.63,\n",
       "     'text': 'Sardegna  36,5  30,8  0,8  244,4 - 312,5 516',\n",
       "     'top': 696.89,\n",
       "     'width': 422.77001953125}],\n",
       "   [{'height': 4.849999904632568,\n",
       "     'left': 43.64,\n",
       "     'text': 'Nord-ovest 515,7 1.718,1 88,7 140,3 - 2.462,8 418',\n",
       "     'top': 707.47,\n",
       "     'width': 422.760009765625}],\n",
       "   [{'height': 4.849999904632568,\n",
       "     'left': 43.64,\n",
       "     'text': 'Nord-est 458,2 961,0 181,8 61,2 - 1.662,2 391',\n",
       "     'top': 718.25,\n",
       "     'width': 422.75}],\n",
       "   [{'height': 4.849999904632568,\n",
       "     'left': 43.63,\n",
       "     'text': 'Centro 1.092,2 634,8 121,4 79,8 1,0 1.929,2 438',\n",
       "     'top': 729.02,\n",
       "     'width': 422.760009765625}],\n",
       "   [{'height': 4.849999904632568,\n",
       "     'left': 43.62,\n",
       "     'text': 'Sud 1.174,2 748,9 60,8 376,4 - 2.360,3 458',\n",
       "     'top': 739.79,\n",
       "     'width': 422.7699890136719}],\n",
       "   [{'height': 4.849999904632568,\n",
       "     'left': 43.62,\n",
       "     'text': 'Isole 204,0 486,7 3,3 369,0 10,3 1.073,2 436',\n",
       "     'top': 750.57,\n",
       "     'width': 422.7699890136719}],\n",
       "   [{'height': 4.849999904632568,\n",
       "     'left': 43.63,\n",
       "     'text': 'ITALIA 3.444,3 4.549,5 456,0 1.026,6 11,2 9.487,7 428',\n",
       "     'top': 761.4,\n",
       "     'width': 422.760009765625}],\n",
       "   [{'height': 4.340000152587891,\n",
       "     'left': 43.62,\n",
       "     'text': 'Fonte: Istat, Censimento delle acque per uso civile',\n",
       "     'top': 773.23,\n",
       "     'width': 137.8100128173828}]],\n",
       "  'extraction_method': 'stream',\n",
       "  'height': 406.1573486328125,\n",
       "  'left': 32.6634,\n",
       "  'right': 517.18463,\n",
       "  'top': 404.91302,\n",
       "  'width': 484.521240234375}]"
      ]
     },
     "execution_count": 2,
     "metadata": {},
     "output_type": "execute_result"
    }
   ],
   "source": [
    "# [top,left,bottom,width]\n",
    "box = [143.18, 11.55, 286.80, 182.88]\n",
    "\n",
    "fc = 28.28\n",
    "         \n",
    "for i in range(0, len(box)):\n",
    "    box[i] /= 10\n",
    "    box[i] *= fc\n",
    "    \n",
    "df = read_pdf(\"dati/Utilizzo-e-qualità-della-risorsa-idrica-in-Italia.pdf\", pages='9',area=[box],output_format=\"json\", stream=True)\n",
    "\n",
    "df\n",
    "\n",
    "#questo me lo stampa in una maniera più facilmente leggibile ad un umano"
   ]
  },
  {
   "cell_type": "markdown",
   "metadata": {},
   "source": [
    "La prima e la seconda riga per la mia prima tabellla almeno, corrispondono al titolo della tabella"
   ]
  },
  {
   "cell_type": "code",
   "execution_count": 3,
   "metadata": {},
   "outputs": [
    {
     "data": {
      "text/plain": [
       "'Tavola 1.1 – Prelievi di acqua per uso potabile per tipologia di fonte e regione. Anno 2015 (volumi in milioni di metri'"
      ]
     },
     "execution_count": 3,
     "metadata": {},
     "output_type": "execute_result"
    }
   ],
   "source": [
    "# prima colonna\n",
    "df[0]['data'][0][0]['text'] "
   ]
  },
  {
   "cell_type": "code",
   "execution_count": 4,
   "metadata": {},
   "outputs": [
    {
     "data": {
      "text/plain": [
       "'cubi, pro capite in litri per abitante al giorno)'"
      ]
     },
     "execution_count": 4,
     "metadata": {},
     "output_type": "execute_result"
    }
   ],
   "source": [
    "# seconda colonna\n",
    "df[0]['data'][1][0]['text'] "
   ]
  },
  {
   "cell_type": "code",
   "execution_count": 56,
   "metadata": {},
   "outputs": [],
   "source": [
    "table = []\n",
    "for i in range(0,len(df[0]['data'])):\n",
    "    if df[0]['data']:\n",
    "        riga = df[0]['data'][i][0]['text']\n",
    "        table.append(riga)\n",
    "#table "
   ]
  },
  {
   "cell_type": "code",
   "execution_count": 70,
   "metadata": {},
   "outputs": [
    {
     "data": {
      "text/plain": [
       "['Piemonte  160,7  415,4  49,9  38,2 - 664,2 412',\n",
       " 'Valle d’Aosta/Vallée d’Aoste  47,1  6,1 - - - 53,2 1.140',\n",
       " 'Liguria  31,0  130,4  38,0  59,0 - 258,4 449',\n",
       " 'Lombardia  276,8  1.166,1  0,8  43,1 - 1.486,9 407',\n",
       " 'Trentino-Alto Adige/Südtirol  193,0  34,0  3,5  0,6 - 231,1 599',\n",
       " 'Bolzano-Bozen  64,5  18,9 - - - 83,4 440',\n",
       " 'Trento  128,5  15,1  3,5  0,6 - 147,7 752',\n",
       " 'Veneto  179,5  472,9  64,8  2,0 - 719,2 400',\n",
       " 'Friuli-Venezia Giulia  53,2  163,6  6,3  1,3 - 224,4 502',\n",
       " 'Emilia-Romagna  32,5  290,5  107,2  57,3 - 487,6 300',\n",
       " 'Toscana  106,8  226,3  115,4  16,1 1,0 465,6 340',\n",
       " 'Umbria  44,7  70,0 - - - 114,7 352',\n",
       " 'Marche  117,3  29,5  2,3  25,0 - 174,1 308',\n",
       " 'Lazio  823,3  309,0  3,8  38,7 - 1.174,9 546',\n",
       " 'Abruzzo  229,1  44,7  8,0 - - 281,8 581',\n",
       " 'Molise  117,9  46,1 -  13,9 - 178,0 1.559',\n",
       " 'Campania  577,3  397,6 -  0,4 - 975,3 456',\n",
       " 'Puglia  0,4  72,0 -  101,4 - 173,8 117',\n",
       " 'Basilicata  57,5  4,8 -  255,1 - 317,4 1.512',\n",
       " 'Calabria  191,9  183,7  52,8  5,5 - 434,1 603',\n",
       " 'Sicilia  167,5  455,9  2,4  124,6 10,3 760,7 410',\n",
       " 'Sardegna  36,5  30,8  0,8  244,4 - 312,5 516',\n",
       " 'Nord-ovest 515,7 1.718,1 88,7 140,3 - 2.462,8 418',\n",
       " 'Nord-est 458,2 961,0 181,8 61,2 - 1.662,2 391',\n",
       " 'Centro 1.092,2 634,8 121,4 79,8 1,0 1.929,2 438',\n",
       " 'Sud 1.174,2 748,9 60,8 376,4 - 2.360,3 458',\n",
       " 'Isole 204,0 486,7 3,3 369,0 10,3 1.073,2 436',\n",
       " 'ITALIA 3.444,3 4.549,5 456,0 1.026,6 11,2 9.487,7 428']"
      ]
     },
     "execution_count": 70,
     "metadata": {},
     "output_type": "execute_result"
    }
   ],
   "source": [
    "import re \n",
    "\n",
    "tab=[]\n",
    "\n",
    "for i in range(1,len(table)):    #cicla partendo da uno, in modo da evitare il nome della tabella\n",
    "    x = re.findall(\"([A-Za-z]+\\s+)([0-9]+|.,[0-9]+)\", table[i])   #cerca insieme di lettere (no case sensistive) seguite da almeno uno spazio\n",
    "                                                                  # e da un insieme di numeri che possono avere un punto e poi devono avere una virgola e altri numeri\n",
    "    if x:\n",
    "        tab.append(table[i])\n",
    "\n",
    "tab   # già il risultato di tab lo posso dare in pasto ad openrefine e suddividere in colonne da li "
   ]
  },
  {
   "cell_type": "markdown",
   "metadata": {},
   "source": [
    "Non ha molto senso dividere il numero dalla regione qui visto che posso usare open refine \n",
    "inoltre per poterla fare qui, dovrei fare una RE specifica che mi riconosca i numeri fatti in una certa maniera\n",
    "\n",
    "a gruppi di tre, divisi da un punto, e l'ultimo gruppo diviso da una virgola, molto più facile far fare ad open refine \n",
    "\n"
   ]
  },
  {
   "cell_type": "code",
   "execution_count": 76,
   "metadata": {},
   "outputs": [
    {
     "name": "stdout",
     "output_type": "stream",
     "text": [
      "************************\n",
      "[['Piemonte  ', '160', None, ',', '7', None, '  ', '415', None, ',', '4', None, '  ', '49', None, ',', '9', None, '  ', '38', None, ',', '2', None, '', None, ' - ', '', '664', None, ',', '2', None, ' ', '412', None, ''], ['Valle d’Aosta/Vallée d’Aoste  ', '47', None, ',', '1', None, '  ', '6', None, ',', '1', None, '', None, ' - ', '-', None, ' - ', '', '53', None, ',', '2', None, ' ', '1', None, '.', '140', None, ''], ['Liguria  ', '31', None, ',', '0', None, '  ', '130', None, ',', '4', None, '  ', '38', None, ',', '0', None, '  ', '59', None, ',', '0', None, '', None, ' - ', '', '258', None, ',', '4', None, ' ', '449', None, ''], ['Lombardia  ', '276', None, ',', '8', None, '  ', '1', None, '.', '166', None, ',', '1', None, '  ', '0', None, ',', '8', None, '  ', '43', None, ',', '1', None, '', None, ' - ', '', '1', None, '.', '486', None, ',', '9', None, ' ', '407', None, ''], ['Trentino-Alto Adige/Südtirol  ', '193', None, ',', '0', None, '  ', '34', None, ',', '0', None, '  ', '3', None, ',', '5', None, '  ', '0', None, ',', '6', None, '', None, ' - ', '', '231', None, ',', '1', None, ' ', '599', None, ''], ['Bolzano-Bozen  ', '64', None, ',', '5', None, '  ', '18', None, ',', '9', None, '', None, ' - ', '-', None, ' - ', '', '83', None, ',', '4', None, ' ', '440', None, ''], ['Trento  ', '128', None, ',', '5', None, '  ', '15', None, ',', '1', None, '  ', '3', None, ',', '5', None, '  ', '0', None, ',', '6', None, '', None, ' - ', '', '147', None, ',', '7', None, ' ', '752', None, ''], ['Veneto  ', '179', None, ',', '5', None, '  ', '472', None, ',', '9', None, '  ', '64', None, ',', '8', None, '  ', '2', None, ',', '0', None, '', None, ' - ', '', '719', None, ',', '2', None, ' ', '400', None, ''], ['Friuli-Venezia Giulia  ', '53', None, ',', '2', None, '  ', '163', None, ',', '6', None, '  ', '6', None, ',', '3', None, '  ', '1', None, ',', '3', None, '', None, ' - ', '', '224', None, ',', '4', None, ' ', '502', None, ''], ['Emilia-Romagna  ', '32', None, ',', '5', None, '  ', '290', None, ',', '5', None, '  ', '107', None, ',', '2', None, '  ', '57', None, ',', '3', None, '', None, ' - ', '', '487', None, ',', '6', None, ' ', '300', None, ''], ['Toscana  ', '106', None, ',', '8', None, '  ', '226', None, ',', '3', None, '  ', '115', None, ',', '4', None, '  ', '16', None, ',', '1', None, ' ', '1', None, ',', '0', None, ' ', '465', None, ',', '6', None, ' ', '340', None, ''], ['Umbria  ', '44', None, ',', '7', None, '  ', '70', None, ',', '0', None, '', None, ' - ', '-', None, ' - ', '', '114', None, ',', '7', None, ' ', '352', None, ''], ['Marche  ', '117', None, ',', '3', None, '  ', '29', None, ',', '5', None, '  ', '2', None, ',', '3', None, '  ', '25', None, ',', '0', None, '', None, ' - ', '', '174', None, ',', '1', None, ' ', '308', None, ''], ['Lazio  ', '823', None, ',', '3', None, '  ', '309', None, ',', '0', None, '  ', '3', None, ',', '8', None, '  ', '38', None, ',', '7', None, '', None, ' - ', '', '1', None, '.', '174', None, ',', '9', None, ' ', '546', None, ''], ['Abruzzo  ', '229', None, ',', '1', None, '  ', '44', None, ',', '7', None, '  ', '8', None, ',', '0', None, '', None, ' - ', '- ', '281', None, ',', '8', None, ' ', '581', None, ''], ['Molise  ', '117', None, ',', '9', None, '  ', '46', None, ',', '1', None, '', None, ' - ', ' ', '13', None, ',', '9', None, '', None, ' - ', '', '178', None, ',', '0', None, ' ', '1', None, '.', '559', None, ''], ['Campania  ', '577', None, ',', '3', None, '  ', '397', None, ',', '6', None, '', None, ' - ', ' ', '0', None, ',', '4', None, '', None, ' - ', '', '975', None, ',', '3', None, ' ', '456', None, ''], ['Puglia  ', '0', None, ',', '4', None, '  ', '72', None, ',', '0', None, '', None, ' - ', ' ', '101', None, ',', '4', None, '', None, ' - ', '', '173', None, ',', '8', None, ' ', '117', None, ''], ['Basilicata  ', '57', None, ',', '5', None, '  ', '4', None, ',', '8', None, '', None, ' - ', ' ', '255', None, ',', '1', None, '', None, ' - ', '', '317', None, ',', '4', None, ' ', '1', None, '.', '512', None, ''], ['Calabria  ', '191', None, ',', '9', None, '  ', '183', None, ',', '7', None, '  ', '52', None, ',', '8', None, '  ', '5', None, ',', '5', None, '', None, ' - ', '', '434', None, ',', '1', None, ' ', '603', None, ''], ['Sicilia  ', '167', None, ',', '5', None, '  ', '455', None, ',', '9', None, '  ', '2', None, ',', '4', None, '  ', '124', None, ',', '6', None, ' ', '10', None, ',', '3', None, ' ', '760', None, ',', '7', None, ' ', '410', None, ''], ['Sardegna  ', '36', None, ',', '5', None, '  ', '30', None, ',', '8', None, '  ', '0', None, ',', '8', None, '  ', '244', None, ',', '4', None, '', None, ' - ', '', '312', None, ',', '5', None, ' ', '516', None, ''], ['Nord-ovest ', '515', None, ',', '7', None, ' ', '1', None, '.', '718', None, ',', '1', None, ' ', '88', None, ',', '7', None, ' ', '140', None, ',', '3', None, '', None, ' - ', '', '2', None, '.', '462', None, ',', '8', None, ' ', '418', None, ''], ['Nord-est ', '458', None, ',', '2', None, ' ', '961', None, ',', '0', None, ' ', '181', None, ',', '8', None, ' ', '61', None, ',', '2', None, '', None, ' - ', '', '1', None, '.', '662', None, ',', '2', None, ' ', '391', None, ''], ['Centro ', '1', None, '.', '092', None, ',', '2', None, ' ', '634', None, ',', '8', None, ' ', '121', None, ',', '4', None, ' ', '79', None, ',', '8', None, ' ', '1', None, ',', '0', None, ' ', '1', None, '.', '929', None, ',', '2', None, ' ', '438', None, ''], ['Sud ', '1', None, '.', '174', None, ',', '2', None, ' ', '748', None, ',', '9', None, ' ', '60', None, ',', '8', None, ' ', '376', None, ',', '4', None, '', None, ' - ', '', '2', None, '.', '360', None, ',', '3', None, ' ', '458', None, ''], ['Isole ', '204', None, ',', '0', None, ' ', '486', None, ',', '7', None, ' ', '3', None, ',', '3', None, ' ', '369', None, ',', '0', None, ' ', '10', None, ',', '3', None, ' ', '1', None, '.', '073', None, ',', '2', None, ' ', '436', None, ''], ['ITALIA ', '3', None, '.', '444', None, ',', '3', None, ' ', '4', None, '.', '549', None, ',', '5', None, ' ', '456', None, ',', '0', None, ' ', '1', None, '.', '026', None, ',', '6', None, ' ', '11', None, ',', '2', None, ' ', '9', None, '.', '487', None, ',', '7', None, ' ', '428', None, '']]\n",
      "************************\n"
     ]
    }
   ],
   "source": [
    "#ATT  non ha molto senso fare la divisione dei numeri qui xke posso usare openrefine\n",
    "\n",
    "import re \n",
    "\n",
    "tab=[]\n",
    "temp=[]\n",
    "\n",
    "for i in range(1,len(table)):\n",
    "    x = re.findall(\"([A-Za-z]+\\s+)([0-9]+|.,[0-9]+)\", table[i])\n",
    "    if x:\n",
    "        temp.append(table[i])\n",
    "        \n",
    "for j in range(0,len(temp)):\n",
    "    y = re.split(\"([0-9]+|.,[0-9]+\\s*)|(\\s-\\s)\", temp[j])\n",
    "    tab.append(y)\n",
    "\n",
    "        \n",
    "print(\"************************\")\n",
    "print(tab)\n",
    "print(\"************************\")"
   ]
  },
  {
   "cell_type": "code",
   "execution_count": 54,
   "metadata": {},
   "outputs": [
    {
     "data": {
      "text/plain": [
       "'Fonte: Istat, Censimento delle acque per uso civile'"
      ]
     },
     "execution_count": 54,
     "metadata": {},
     "output_type": "execute_result"
    }
   ],
   "source": [
    "table[len(df[0]['data'])-1]"
   ]
  },
  {
   "cell_type": "code",
   "execution_count": 10,
   "metadata": {},
   "outputs": [],
   "source": [
    "# mi conviene usare json anzi che csv\n",
    "import json\n",
    "\n",
    "with open(\"tab1.json\", \"w\") as outfile:\n",
    "    json.dump(table, outfile, indent=3)    #indentazione con 3 spazi"
   ]
  },
  {
   "cell_type": "markdown",
   "metadata": {},
   "source": [
    "*************************************************************************************"
   ]
  },
  {
   "cell_type": "code",
   "execution_count": null,
   "metadata": {},
   "outputs": [],
   "source": [
    "# elimino le colonne vuote\n",
    "table = []\n",
    "for i in range(0,len(df)):\n",
    "    riga = {}\n",
    "    riga['regione'] = regioni[i]\n",
    "    if df[i]['data']:\n",
    "        for j in range(0,len(df[i]['data'])):\n",
    "            primaColonna = df[i]['data'][j][0]['text']\n",
    "            if primaColonna != '' and primaColonna != '17 operatori sanitari' and primaColonna != \"Fascia d'età\":\n",
    "                if primaColonna == '&gt;90':\n",
    "                    primaColonna = '> 90'\n",
    "                secondaColonna = df[i]['data'][j][1]['text']\n",
    "                riga[primaColonna] = secondaColonna\n",
    "    table.append(riga)\n",
    "table "
   ]
  },
  {
   "cell_type": "code",
   "execution_count": null,
   "metadata": {},
   "outputs": [],
   "source": [
    "# salvo i risultati su file \n",
    "import csv\n",
    "nomi_colonne = table[0].keys()\n",
    "with open('dati-regioni-covid.csv', 'w') as output_file:\n",
    "    dict_writer = csv.DictWriter(output_file, nomi_colonne)\n",
    "    dict_writer.writeheader()\n",
    "    dict_writer.writerows(table)"
   ]
  },
  {
   "cell_type": "code",
   "execution_count": null,
   "metadata": {},
   "outputs": [],
   "source": []
  }
 ],
 "metadata": {
  "kernelspec": {
   "display_name": "Python 3",
   "language": "python",
   "name": "python3"
  },
  "language_info": {
   "codemirror_mode": {
    "name": "ipython",
    "version": 3
   },
   "file_extension": ".py",
   "mimetype": "text/x-python",
   "name": "python",
   "nbconvert_exporter": "python",
   "pygments_lexer": "ipython3",
   "version": "3.6.9"
  }
 },
 "nbformat": 4,
 "nbformat_minor": 4
}
