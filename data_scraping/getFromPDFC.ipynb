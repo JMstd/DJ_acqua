{
 "cells": [
  {
   "cell_type": "markdown",
   "metadata": {},
   "source": [
    "Qeusta prima parte serve ad estrarre una prima vaersione grezza dei dati dal pdf"
   ]
  },
  {
   "cell_type": "code",
   "execution_count": 173,
   "metadata": {},
   "outputs": [],
   "source": [
    "# [top,left,bottom,width]\n",
    "box = [143.18, 11.55, 286.80, 182.88]\n",
    "# fattore di conversione\n",
    "fc = 28.28\n",
    "         \n",
    "for i in range(0, len(box)):\n",
    "    box[i] /= 10\n",
    "    box[i] *= fc\n",
    "    \n",
    "df = read_pdf(\"dati/Utilizzo-e-qualità-della-risorsa-idrica-in-Italia.pdf\", pages='9',area=[box],output_format=\"json\", stream=True)\n",
    "\n",
    "#df\n",
    "\n",
    "#questo me lo stampa in una maniera più facilmente leggibile ad un umano"
   ]
  },
  {
   "cell_type": "markdown",
   "metadata": {},
   "source": [
    "La prima e la seconda riga per la mia prima tabellla almeno, corrispondono al titolo della tabella\n",
    "\n",
    "il codice commentato sotto, serve a visualizzare le singole righe con il rispettivo contenuto in testo"
   ]
  },
  {
   "cell_type": "code",
   "execution_count": 174,
   "metadata": {},
   "outputs": [],
   "source": [
    "# prima colonna\n",
    "#df[0]['data'][0][0]['text'] \n",
    "\n",
    "# seconda colonna\n",
    "#df[0]['data'][1][0]['text'] "
   ]
  },
  {
   "cell_type": "markdown",
   "metadata": {},
   "source": [
    "Crea la tabella con i miei dati"
   ]
  },
  {
   "cell_type": "code",
   "execution_count": 175,
   "metadata": {},
   "outputs": [],
   "source": [
    "table = []\n",
    "for i in range(0,len(df[0]['data'])):\n",
    "    if df[0]['data']:\n",
    "        riga = df[0]['data'][i][0]['text']\n",
    "        table.append(riga)\n",
    "#table "
   ]
  },
  {
   "cell_type": "code",
   "execution_count": 176,
   "metadata": {},
   "outputs": [
    {
     "name": "stdout",
     "output_type": "stream",
     "text": [
      "*************************\n"
     ]
    },
    {
     "data": {
      "text/plain": [
       "['Piemonte  :160,7  415,4  49,9  38,2 - 664,2 412',\n",
       " 'Valle d’Aosta/Vallée d’Aoste  :47,1  6,1 - - - 53,2 1.140',\n",
       " 'Liguria  :31,0  130,4  38,0  59,0 - 258,4 449',\n",
       " 'Lombardia  :276,8  1.166,1  0,8  43,1 - 1.486,9 407',\n",
       " 'Trentino-Alto Adige/Südtirol  :193,0  34,0  3,5  0,6 - 231,1 599',\n",
       " 'Bolzano-Bozen  :64,5  18,9 - - - 83,4 440',\n",
       " 'Trento  :128,5  15,1  3,5  0,6 - 147,7 752',\n",
       " 'Veneto  :179,5  472,9  64,8  2,0 - 719,2 400',\n",
       " 'Friuli-Venezia Giulia  :53,2  163,6  6,3  1,3 - 224,4 502',\n",
       " 'Emilia-Romagna  :32,5  290,5  107,2  57,3 - 487,6 300',\n",
       " 'Toscana  :106,8  226,3  115,4  16,1 1,0 465,6 340',\n",
       " 'Umbria  :44,7  70,0 - - - 114,7 352',\n",
       " 'Marche  :117,3  29,5  2,3  25,0 - 174,1 308',\n",
       " 'Lazio  :823,3  309,0  3,8  38,7 - 1.174,9 546',\n",
       " 'Abruzzo  :229,1  44,7  8,0 - - 281,8 581',\n",
       " 'Molise  :117,9  46,1 -  13,9 - 178,0 1.559',\n",
       " 'Campania  :577,3  397,6 -  0,4 - 975,3 456',\n",
       " 'Puglia  :0,4  72,0 -  101,4 - 173,8 117',\n",
       " 'Basilicata  :57,5  4,8 -  255,1 - 317,4 1.512',\n",
       " 'Calabria  :191,9  183,7  52,8  5,5 - 434,1 603',\n",
       " 'Sicilia  :167,5  455,9  2,4  124,6 10,3 760,7 410',\n",
       " 'Sardegna  :36,5  30,8  0,8  244,4 - 312,5 516',\n",
       " 'Nord-ovest :515,7 1.718,1 88,7 140,3 - 2.462,8 418',\n",
       " 'Nord-est :458,2 961,0 181,8 61,2 - 1.662,2 391',\n",
       " 'Centro :1.092,2 634,8 121,4 79,8 1,0 1.929,2 438',\n",
       " 'Sud :1.174,2 748,9 60,8 376,4 - 2.360,3 458',\n",
       " 'Isole :204,0 486,7 3,3 369,0 10,3 1.073,2 436',\n",
       " 'ITALIA :3.444,3 4.549,5 456,0 1.026,6 11,2 9.487,7 428']"
      ]
     },
     "execution_count": 176,
     "metadata": {},
     "output_type": "execute_result"
    }
   ],
   "source": [
    "import re \n",
    "\n",
    "tab=[]\n",
    "#test=[]    --> INUTILE\n",
    "fin=[]\n",
    "\n",
    "nome_tab = re.findall(\"[A-Za-z]+\\s[0-9]+\\.[0-9]+\", table[0])  #contiene il nome tabella sul pdf es. Tavola 1.1\n",
    "fonte_tab = table[len(df[0]['data'])-1]    #contiene la fonte della tab (es istat)\n",
    "\n",
    "for i in range(1,len(table)):    #cicla partendo da uno, in modo da evitare il nome della tabella\n",
    "    x = re.findall(\"([A-Za-z]+\\s+)([0-9]+|.,[0-9]+)\", table[i])   #mi seleziona tutti i nomi (di regione) seguiti da numeri  \n",
    "    # forse la riga sopra va raffinata xke potrebbe dare problemi in tab he hanno nomi seguiti da numeri in righe che non sono la prima ma nemmeno le regioni\n",
    "    #ATT --> inoltre la RE --> ([A-Za-z]\\s+)([0-9]) presente sotto in y, dovrebbe fare la stessa cosa, alivello di utilità qui,\n",
    "    #quindi potrei acnhe sostituire questa con quella RE\n",
    "    if x:\n",
    "        tab.append(table[i])    #ora tab contien tutti i dati necessari estratti dal pdf, sono da riordinare\n",
    "\n",
    "for j in range(0,len(tab)):\n",
    "    #([A-Za-z]\\s+)([0-9])    --> INUTILE\n",
    "    #Y=re.findall(\"([A-Za-z]\\s+)([0-9])\", tab[j])    --> INUTILE\n",
    "    y=re.search(\"([A-Za-z]\\s+)([0-9])\", tab[j])   #mi trova tutti i nomi delle regioni + gli spazi + il primo numero\n",
    "    if y:    # toglie il priomo numero dal nome delle regioni ma lascia gli spazi\n",
    "        val=y.span()   #trova l'estensione della parola\n",
    "        nome=tab[j][0:val[1]-1]   #contiene il nome della regione (della riga)\n",
    "        nr=tab[j].split(nome)     #contiene il valore della riga (+ uno spazio bianco iniziale che sotto viene omesso)\n",
    "        #test.append(nr[1])    --> INUTILE\n",
    "        #*********************************\n",
    "        riga_fin = str(nome)+\":\"+str(nr[1])\n",
    "        #fin.append(z)   #aggiunge il nome della regione    --> INUTILE\n",
    "        #fin.append(num)   #aggiunge i valori               --> INUTILE\n",
    "        fin.append(riga_fin)\n",
    "\n",
    "#fin.append(fonte_tab)    aggiunge la fonte alla tab, vedere come gestire la cosa\n",
    "\n",
    "print(\"*************************\")\n",
    "#test                             --> INUTILE\n",
    "#ok    test.append(z)             --> INUTILE\n",
    "        #test.append(y.span())    --> INUTILE\n",
    "fin\n",
    "#test    --> INUTILE\n",
    "#tab   # già il risultato di tab lo posso dare in pasto ad openrefine e suddividere in colonne da li     --> INUTILE"
   ]
  },
  {
   "cell_type": "code",
   "execution_count": 177,
   "metadata": {},
   "outputs": [],
   "source": [
    "#tab"
   ]
  },
  {
   "cell_type": "code",
   "execution_count": 178,
   "metadata": {},
   "outputs": [],
   "source": [
    "import json\n",
    "with open(nome_tab[0]+\".json\", \"w\") as outfile:\n",
    "    json.dump(fin, outfile, indent=3)\n",
    "    \n",
    "# il nome della tabella corrispode a quello sul pdf (Tavola *.*)\n",
    "# esporto tutto su openrefine e divido i nomi dai valori e poi uso la RE di seguito --> ([\"   \"]+|[\"  \"]+|[\" \"]+)\n",
    "# il risultato è la mia tabella corretta"
   ]
  },
  {
   "cell_type": "markdown",
   "metadata": {},
   "source": [
    "Non ha molto senso dividere il numero dalla regione qui visto che posso usare open refine \n",
    "inoltre per poterla fare qui, dovrei fare una RE specifica che mi riconosca i numeri fatti in una certa maniera\n",
    "\n",
    "a gruppi di tre, divisi da un punto, e l'ultimo gruppo diviso da una virgola, molto più facile far fare ad open refine \n",
    "\n"
   ]
  },
  {
   "cell_type": "code",
   "execution_count": 167,
   "metadata": {},
   "outputs": [
    {
     "data": {
      "text/plain": [
       "'Fonte: Istat, Censimento delle acque per uso civile'"
      ]
     },
     "execution_count": 167,
     "metadata": {},
     "output_type": "execute_result"
    }
   ],
   "source": [
    "table[len(df[0]['data'])-1]"
   ]
  },
  {
   "cell_type": "code",
   "execution_count": null,
   "metadata": {},
   "outputs": [],
   "source": [
    "#ATT  non ha molto senso fare la divisione dei numeri qui xke posso usare openrefine\n",
    "# ATT PROBABILMENTE INUTILE DOVRO' CANCELLARE TUTTA LA CELLA\n",
    "\n",
    "import re \n",
    "\n",
    "tab=[]\n",
    "temp=[]\n",
    "\n",
    "for i in range(1,len(table)):\n",
    "    x = re.findall(\"([A-Za-z]+\\s+)([0-9]+|.,[0-9]+)\", table[i])\n",
    "    if x:\n",
    "        temp.append(table[i])\n",
    "        \n",
    "for j in range(0,len(temp)):\n",
    "    y = re.split(\"([0-9]+|.,[0-9]+\\s*)|(\\s-\\s)\", temp[j])\n",
    "    tab.append(y)\n",
    "\n",
    "        \n",
    "print(\"************************\")\n",
    "print(tab)\n",
    "print(\"************************\")"
   ]
  },
  {
   "cell_type": "markdown",
   "metadata": {},
   "source": [
    "*************************************************************************************"
   ]
  },
  {
   "cell_type": "code",
   "execution_count": null,
   "metadata": {},
   "outputs": [],
   "source": [
    "# elimino le colonne vuote\n",
    "table = []\n",
    "for i in range(0,len(df)):\n",
    "    riga = {}\n",
    "    riga['regione'] = regioni[i]\n",
    "    if df[i]['data']:\n",
    "        for j in range(0,len(df[i]['data'])):\n",
    "            primaColonna = df[i]['data'][j][0]['text']\n",
    "            if primaColonna != '' and primaColonna != '17 operatori sanitari' and primaColonna != \"Fascia d'età\":\n",
    "                if primaColonna == '&gt;90':\n",
    "                    primaColonna = '> 90'\n",
    "                secondaColonna = df[i]['data'][j][1]['text']\n",
    "                riga[primaColonna] = secondaColonna\n",
    "    table.append(riga)\n",
    "table "
   ]
  },
  {
   "cell_type": "code",
   "execution_count": null,
   "metadata": {},
   "outputs": [],
   "source": [
    "# salvo i risultati su file \n",
    "import csv\n",
    "nomi_colonne = table[0].keys()\n",
    "with open('dati-regioni-covid.csv', 'w') as output_file:\n",
    "    dict_writer = csv.DictWriter(output_file, nomi_colonne)\n",
    "    dict_writer.writeheader()\n",
    "    dict_writer.writerows(table)"
   ]
  },
  {
   "cell_type": "code",
   "execution_count": null,
   "metadata": {},
   "outputs": [],
   "source": []
  }
 ],
 "metadata": {
  "kernelspec": {
   "display_name": "Python 3",
   "language": "python",
   "name": "python3"
  },
  "language_info": {
   "codemirror_mode": {
    "name": "ipython",
    "version": 3
   },
   "file_extension": ".py",
   "mimetype": "text/x-python",
   "name": "python",
   "nbconvert_exporter": "python",
   "pygments_lexer": "ipython3",
   "version": "3.6.9"
  }
 },
 "nbformat": 4,
 "nbformat_minor": 4
}
