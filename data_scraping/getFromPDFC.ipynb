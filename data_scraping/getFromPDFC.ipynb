{
 "cells": [
  {
   "cell_type": "code",
   "execution_count": 38,
   "metadata": {},
   "outputs": [
    {
     "data": {
      "text/plain": [
       "[{'bottom': 811.0704,\n",
       "  'data': [[{'height': 6.830008506774902,\n",
       "     'left': 42.52,\n",
       "     'text': 'Tavola 1.1 – Prelievi di acqua per uso potabile per tipologia di fonte e regione. Anno 2015 (volumi in milioni di metri',\n",
       "     'top': 420.81,\n",
       "     'width': 422.8800048828125}],\n",
       "   [{'height': 6.820000171661377,\n",
       "     'left': 87.19,\n",
       "     'text': 'cubi, pro capite in litri per abitante al giorno)',\n",
       "     'top': 431.81,\n",
       "     'width': 163.8199920654297}],\n",
       "   [{'height': 13.059993743896484,\n",
       "     'left': 43.52,\n",
       "     'text': 'Prelevato pro REGIONI Sorgente Pozzo Corso d’acqua superfi ciale bacino artifi ciale Lago naturale o Acque marine o salmastre Totale capite',\n",
       "     'top': 450.82,\n",
       "     'width': 424.7099914550781}],\n",
       "   [{'height': 4.659999847412109,\n",
       "     'left': 43.51,\n",
       "     'text': 'Piemonte  160,7  415,4  49,9  38,2 - 664,2 412',\n",
       "     'top': 470.6,\n",
       "     'width': 422.77001953125}],\n",
       "   [{'height': 4.659999847412109,\n",
       "     'left': 43.52,\n",
       "     'text': 'Valle d’Aosta/Vallée d’Aoste  47,1  6,1 - - - 53,2 1.140',\n",
       "     'top': 481.43,\n",
       "     'width': 422.760009765625}],\n",
       "   [{'height': 4.659999847412109,\n",
       "     'left': 43.52,\n",
       "     'text': 'Liguria  31,0  130,4  38,0  59,0 - 258,4 449',\n",
       "     'top': 492.21,\n",
       "     'width': 422.7699890136719}],\n",
       "   [{'height': 4.659999847412109,\n",
       "     'left': 43.53,\n",
       "     'text': 'Lombardia  276,8  1.166,1  0,8  43,1 - 1.486,9 407',\n",
       "     'top': 502.98,\n",
       "     'width': 422.77001953125}],\n",
       "   [{'height': 4.659999847412109,\n",
       "     'left': 43.53,\n",
       "     'text': 'Trentino-Alto Adige/Südtirol  193,0  34,0  3,5  0,6 - 231,1 599',\n",
       "     'top': 513.75,\n",
       "     'width': 422.780029296875}],\n",
       "   [{'height': 4.630000114440918,\n",
       "     'left': 43.55,\n",
       "     'text': 'Bolzano-Bozen  64,5  18,9 - - - 83,4 440',\n",
       "     'top': 524.55,\n",
       "     'width': 422.75}],\n",
       "   [{'height': 4.630000114440918,\n",
       "     'left': 43.54,\n",
       "     'text': 'Trento  128,5  15,1  3,5  0,6 - 147,7 752',\n",
       "     'top': 535.33,\n",
       "     'width': 422.7799987792969}],\n",
       "   [{'height': 4.659999847412109,\n",
       "     'left': 43.55,\n",
       "     'text': 'Veneto  179,5  472,9  64,8  2,0 - 719,2 400',\n",
       "     'top': 546.07,\n",
       "     'width': 422.7699890136719}],\n",
       "   [{'height': 4.659999847412109,\n",
       "     'left': 43.56,\n",
       "     'text': 'Friuli-Venezia Giulia  53,2  163,6  6,3  1,3 - 224,4 502',\n",
       "     'top': 556.84,\n",
       "     'width': 422.7699890136719}],\n",
       "   [{'height': 4.659999847412109,\n",
       "     'left': 43.57,\n",
       "     'text': 'Emilia-Romagna  32,5  290,5  107,2  57,3 - 487,6 300',\n",
       "     'top': 567.62,\n",
       "     'width': 422.760009765625}],\n",
       "   [{'height': 4.659999847412109,\n",
       "     'left': 43.57,\n",
       "     'text': 'Toscana  106,8  226,3  115,4  16,1 1,0 465,6 340',\n",
       "     'top': 578.39,\n",
       "     'width': 422.77001953125}],\n",
       "   [{'height': 4.659999847412109,\n",
       "     'left': 43.58,\n",
       "     'text': 'Umbria  44,7  70,0 - - - 114,7 352',\n",
       "     'top': 589.16,\n",
       "     'width': 422.760009765625}],\n",
       "   [{'height': 4.659999847412109,\n",
       "     'left': 43.58,\n",
       "     'text': 'Marche  117,3  29,5  2,3  25,0 - 174,1 308',\n",
       "     'top': 599.94,\n",
       "     'width': 422.7699890136719}],\n",
       "   [{'height': 4.659999847412109,\n",
       "     'left': 43.58,\n",
       "     'text': 'Lazio  823,3  309,0  3,8  38,7 - 1.174,9 546',\n",
       "     'top': 610.71,\n",
       "     'width': 422.7699890136719}],\n",
       "   [{'height': 4.659999847412109,\n",
       "     'left': 43.59,\n",
       "     'text': 'Abruzzo  229,1  44,7  8,0 - - 281,8 581',\n",
       "     'top': 621.48,\n",
       "     'width': 422.7799987792969}],\n",
       "   [{'height': 4.659999847412109,\n",
       "     'left': 43.6,\n",
       "     'text': 'Molise  117,9  46,1 -  13,9 - 178,0 1.559',\n",
       "     'top': 632.26,\n",
       "     'width': 422.77001953125}],\n",
       "   [{'height': 4.659999847412109,\n",
       "     'left': 43.6,\n",
       "     'text': 'Campania  577,3  397,6 -  0,4 - 975,3 456',\n",
       "     'top': 643.03,\n",
       "     'width': 422.77001953125}],\n",
       "   [{'height': 4.659999847412109,\n",
       "     'left': 43.61,\n",
       "     'text': 'Puglia  0,4  72,0 -  101,4 - 173,8 117',\n",
       "     'top': 653.8,\n",
       "     'width': 422.760009765625}],\n",
       "   [{'height': 4.659999847412109,\n",
       "     'left': 43.6,\n",
       "     'text': 'Basilicata  57,5  4,8 -  255,1 - 317,4 1.512',\n",
       "     'top': 664.57,\n",
       "     'width': 422.77001953125}],\n",
       "   [{'height': 4.659999847412109,\n",
       "     'left': 43.61,\n",
       "     'text': 'Calabria  191,9  183,7  52,8  5,5 - 434,1 603',\n",
       "     'top': 675.35,\n",
       "     'width': 422.7699890136719}],\n",
       "   [{'height': 4.659999847412109,\n",
       "     'left': 43.62,\n",
       "     'text': 'Sicilia  167,5  455,9  2,4  124,6 10,3 760,7 410',\n",
       "     'top': 686.12,\n",
       "     'width': 422.7699890136719}],\n",
       "   [{'height': 4.659999847412109,\n",
       "     'left': 43.63,\n",
       "     'text': 'Sardegna  36,5  30,8  0,8  244,4 - 312,5 516',\n",
       "     'top': 696.89,\n",
       "     'width': 422.77001953125}],\n",
       "   [{'height': 4.849999904632568,\n",
       "     'left': 43.64,\n",
       "     'text': 'Nord-ovest 515,7 1.718,1 88,7 140,3 - 2.462,8 418',\n",
       "     'top': 707.47,\n",
       "     'width': 422.760009765625}],\n",
       "   [{'height': 4.849999904632568,\n",
       "     'left': 43.64,\n",
       "     'text': 'Nord-est 458,2 961,0 181,8 61,2 - 1.662,2 391',\n",
       "     'top': 718.25,\n",
       "     'width': 422.75}],\n",
       "   [{'height': 4.849999904632568,\n",
       "     'left': 43.63,\n",
       "     'text': 'Centro 1.092,2 634,8 121,4 79,8 1,0 1.929,2 438',\n",
       "     'top': 729.02,\n",
       "     'width': 422.760009765625}],\n",
       "   [{'height': 4.849999904632568,\n",
       "     'left': 43.62,\n",
       "     'text': 'Sud 1.174,2 748,9 60,8 376,4 - 2.360,3 458',\n",
       "     'top': 739.79,\n",
       "     'width': 422.7699890136719}],\n",
       "   [{'height': 4.849999904632568,\n",
       "     'left': 43.62,\n",
       "     'text': 'Isole 204,0 486,7 3,3 369,0 10,3 1.073,2 436',\n",
       "     'top': 750.57,\n",
       "     'width': 422.7699890136719}],\n",
       "   [{'height': 4.849999904632568,\n",
       "     'left': 43.63,\n",
       "     'text': 'ITALIA 3.444,3 4.549,5 456,0 1.026,6 11,2 9.487,7 428',\n",
       "     'top': 761.4,\n",
       "     'width': 422.760009765625}],\n",
       "   [{'height': 4.340000152587891,\n",
       "     'left': 43.62,\n",
       "     'text': 'Fonte: Istat, Censimento delle acque per uso civile',\n",
       "     'top': 773.23,\n",
       "     'width': 137.8100128173828}]],\n",
       "  'extraction_method': 'stream',\n",
       "  'height': 406.1573486328125,\n",
       "  'left': 32.6634,\n",
       "  'right': 517.18463,\n",
       "  'top': 404.91302,\n",
       "  'width': 484.521240234375}]"
      ]
     },
     "execution_count": 38,
     "metadata": {},
     "output_type": "execute_result"
    }
   ],
   "source": [
    "# [top,left,bottom,width]\n",
    "box = [143.18, 11.55, 286.80, 182.88]\n",
    "# fattore di conversione\n",
    "fc = 28.28\n",
    "         \n",
    "for i in range(0, len(box)):\n",
    "    box[i] /= 10\n",
    "    box[i] *= fc\n",
    "    \n",
    "df = read_pdf(\"dati/Utilizzo-e-qualità-della-risorsa-idrica-in-Italia.pdf\", pages='9',area=[box],output_format=\"json\", stream=True)\n",
    "\n",
    "df\n",
    "\n",
    "#questo me lo stampa in una maniera più facilmente leggibile ad un umano"
   ]
  },
  {
   "cell_type": "markdown",
   "metadata": {},
   "source": [
    "La prima e la seconda riga per la mia prima tabellla almeno, corrispondono al titolo della tabella\n",
    "\n",
    "il codice commentato sotto, serve a visualizzare le singole righe con il rispettivo contenuto in testo"
   ]
  },
  {
   "cell_type": "code",
   "execution_count": 39,
   "metadata": {},
   "outputs": [],
   "source": [
    "# prima colonna\n",
    "#df[0]['data'][0][0]['text'] \n",
    "\n",
    "# seconda colonna\n",
    "#df[0]['data'][1][0]['text'] "
   ]
  },
  {
   "cell_type": "markdown",
   "metadata": {},
   "source": [
    "Crea la tabella con i miei dati"
   ]
  },
  {
   "cell_type": "code",
   "execution_count": 40,
   "metadata": {},
   "outputs": [],
   "source": [
    "table = []\n",
    "for i in range(0,len(df[0]['data'])):\n",
    "    if df[0]['data']:\n",
    "        riga = df[0]['data'][i][0]['text']\n",
    "        table.append(riga)\n",
    "#table "
   ]
  },
  {
   "cell_type": "code",
   "execution_count": 106,
   "metadata": {},
   "outputs": [
    {
     "name": "stdout",
     "output_type": "stream",
     "text": [
      "*************************\n"
     ]
    },
    {
     "data": {
      "text/plain": [
       "['Piemonte  :160,7  415,4  49,9  38,2 - 664,2 412',\n",
       " 'Valle d’Aosta/Vallée d’Aoste  :47,1  6,1 - - - 53,2 1.140',\n",
       " 'Liguria  :31,0  130,4  38,0  59,0 - 258,4 449',\n",
       " 'Lombardia  :276,8  1.166,1  0,8  43,1 - 1.486,9 407',\n",
       " 'Trentino-Alto Adige/Südtirol  :193,0  34,0  3,5  0,6 - 231,1 599',\n",
       " 'Bolzano-Bozen  :64,5  18,9 - - - 83,4 440',\n",
       " 'Trento  :128,5  15,1  3,5  0,6 - 147,7 752',\n",
       " 'Veneto  :179,5  472,9  64,8  2,0 - 719,2 400',\n",
       " 'Friuli-Venezia Giulia  :53,2  163,6  6,3  1,3 - 224,4 502',\n",
       " 'Emilia-Romagna  :32,5  290,5  107,2  57,3 - 487,6 300',\n",
       " 'Toscana  :106,8  226,3  115,4  16,1 1,0 465,6 340',\n",
       " 'Umbria  :44,7  70,0 - - - 114,7 352',\n",
       " 'Marche  :117,3  29,5  2,3  25,0 - 174,1 308',\n",
       " 'Lazio  :823,3  309,0  3,8  38,7 - 1.174,9 546',\n",
       " 'Abruzzo  :229,1  44,7  8,0 - - 281,8 581',\n",
       " 'Molise  :117,9  46,1 -  13,9 - 178,0 1.559',\n",
       " 'Campania  :577,3  397,6 -  0,4 - 975,3 456',\n",
       " 'Puglia  :0,4  72,0 -  101,4 - 173,8 117',\n",
       " 'Basilicata  :57,5  4,8 -  255,1 - 317,4 1.512',\n",
       " 'Calabria  :191,9  183,7  52,8  5,5 - 434,1 603',\n",
       " 'Sicilia  :167,5  455,9  2,4  124,6 10,3 760,7 410',\n",
       " 'Sardegna  :36,5  30,8  0,8  244,4 - 312,5 516',\n",
       " 'Nord-ovest :515,7 1.718,1 88,7 140,3 - 2.462,8 418',\n",
       " 'Nord-est :458,2 961,0 181,8 61,2 - 1.662,2 391',\n",
       " 'Centro :1.092,2 634,8 121,4 79,8 1,0 1.929,2 438',\n",
       " 'Sud :1.174,2 748,9 60,8 376,4 - 2.360,3 458',\n",
       " 'Isole :204,0 486,7 3,3 369,0 10,3 1.073,2 436',\n",
       " 'ITALIA :3.444,3 4.549,5 456,0 1.026,6 11,2 9.487,7 428']"
      ]
     },
     "execution_count": 106,
     "metadata": {},
     "output_type": "execute_result"
    }
   ],
   "source": [
    "import re \n",
    "\n",
    "tab=[]\n",
    "test=[]\n",
    "fin=[]\n",
    "\n",
    "for i in range(1,len(table)):    #cicla partendo da uno, in modo da evitare il nome della tabella\n",
    "    x = re.findall(\"([A-Za-z]+\\s+)([0-9]+|.,[0-9]+)\", table[i])   #cerca insieme di lettere (no case sensistive) seguite da almeno uno spazio\n",
    "                                                                  # e da un insieme di numeri che possono avere un punto e poi devono avere una virgola e altri numeri\n",
    "    if x:\n",
    "        tab.append(table[i])    #ora tab contien tutti i dati necessari estratti dal pdf, sono da ripulire\n",
    "\n",
    "for j in range(0,len(tab)):\n",
    "    #([A-Za-z]\\s+)([0-9])\n",
    "    Y=re.findall(\"([A-Za-z]\\s+)([0-9])\", tab[j])\n",
    "    y=re.search(\"([A-Za-z]\\s+)([0-9])\", tab[j])   #mi trova tutti i nomi delle regioni + gli spazi + il primo numero\n",
    "    if y:    # toglie il priomo numero dal nome delle regioni ma lascia gli spazi\n",
    "        val=y.span()\n",
    "        z=tab[j][0:val[1]-1]\n",
    "        num=tab[j].split(z)\n",
    "        test.append(num[1])\n",
    "        #*********************************\n",
    "        vfin = str(z)+\":\"+str(num[1])\n",
    "        #fin.append(z)   #aggiunge il nome della regione \n",
    "        #fin.append(num)   #aggiunge i valori\n",
    "        fin.append(vfin)\n",
    "print(\"*************************\")\n",
    "#test\n",
    "#ok    test.append(z)\n",
    "        #test.append(y.span())\n",
    "fin\n",
    "#test\n",
    "#tab   # già il risultato di tab lo posso dare in pasto ad openrefine e suddividere in colonne da li "
   ]
  },
  {
   "cell_type": "code",
   "execution_count": 85,
   "metadata": {},
   "outputs": [
    {
     "data": {
      "text/plain": [
       "'ITALIA '"
      ]
     },
     "execution_count": 85,
     "metadata": {},
     "output_type": "execute_result"
    }
   ],
   "source": [
    "Y=re.findall(\"([A-Za-z]\\s+)([0-9])\", tab[j])\n",
    "Y\n",
    "z"
   ]
  },
  {
   "cell_type": "code",
   "execution_count": 107,
   "metadata": {},
   "outputs": [],
   "source": [
    "import json\n",
    "with open(\"fin.json\", \"w\") as outfile:\n",
    "    json.dump(fin, outfile, indent=3)\n",
    "    \n",
    "# esporto tutto su openrefine e divido i nomi dai valori e poi uso la RE di seguito --> ([\"   \"]+|[\"  \"]+|[\" \"]+)\n",
    "# il risultato è la mia tabella corretta"
   ]
  },
  {
   "cell_type": "code",
   "execution_count": 5,
   "metadata": {},
   "outputs": [],
   "source": [
    "import json\n",
    "with open(\"tab2.json\", \"w\") as outfile:\n",
    "    json.dump(tab, outfile, indent=3)"
   ]
  },
  {
   "cell_type": "markdown",
   "metadata": {},
   "source": [
    "Non ha molto senso dividere il numero dalla regione qui visto che posso usare open refine \n",
    "inoltre per poterla fare qui, dovrei fare una RE specifica che mi riconosca i numeri fatti in una certa maniera\n",
    "\n",
    "a gruppi di tre, divisi da un punto, e l'ultimo gruppo diviso da una virgola, molto più facile far fare ad open refine \n",
    "\n"
   ]
  },
  {
   "cell_type": "code",
   "execution_count": null,
   "metadata": {},
   "outputs": [],
   "source": [
    "#ATT  non ha molto senso fare la divisione dei numeri qui xke posso usare openrefine\n",
    "\n",
    "import re \n",
    "\n",
    "tab=[]\n",
    "temp=[]\n",
    "\n",
    "for i in range(1,len(table)):\n",
    "    x = re.findall(\"([A-Za-z]+\\s+)([0-9]+|.,[0-9]+)\", table[i])\n",
    "    if x:\n",
    "        temp.append(table[i])\n",
    "        \n",
    "for j in range(0,len(temp)):\n",
    "    y = re.split(\"([0-9]+|.,[0-9]+\\s*)|(\\s-\\s)\", temp[j])\n",
    "    tab.append(y)\n",
    "\n",
    "        \n",
    "print(\"************************\")\n",
    "print(tab)\n",
    "print(\"************************\")"
   ]
  },
  {
   "cell_type": "code",
   "execution_count": null,
   "metadata": {},
   "outputs": [],
   "source": [
    "table[len(df[0]['data'])-1]"
   ]
  },
  {
   "cell_type": "code",
   "execution_count": null,
   "metadata": {},
   "outputs": [],
   "source": [
    "# mi conviene usare json anzi che csv\n",
    "import json\n",
    "\n",
    "with open(\"tab1.json\", \"w\") as outfile:\n",
    "    json.dump(table, outfile, indent=3)    #indentazione con 3 spazi"
   ]
  },
  {
   "cell_type": "markdown",
   "metadata": {},
   "source": [
    "*************************************************************************************"
   ]
  },
  {
   "cell_type": "code",
   "execution_count": null,
   "metadata": {},
   "outputs": [],
   "source": [
    "# elimino le colonne vuote\n",
    "table = []\n",
    "for i in range(0,len(df)):\n",
    "    riga = {}\n",
    "    riga['regione'] = regioni[i]\n",
    "    if df[i]['data']:\n",
    "        for j in range(0,len(df[i]['data'])):\n",
    "            primaColonna = df[i]['data'][j][0]['text']\n",
    "            if primaColonna != '' and primaColonna != '17 operatori sanitari' and primaColonna != \"Fascia d'età\":\n",
    "                if primaColonna == '&gt;90':\n",
    "                    primaColonna = '> 90'\n",
    "                secondaColonna = df[i]['data'][j][1]['text']\n",
    "                riga[primaColonna] = secondaColonna\n",
    "    table.append(riga)\n",
    "table "
   ]
  },
  {
   "cell_type": "code",
   "execution_count": null,
   "metadata": {},
   "outputs": [],
   "source": [
    "# salvo i risultati su file \n",
    "import csv\n",
    "nomi_colonne = table[0].keys()\n",
    "with open('dati-regioni-covid.csv', 'w') as output_file:\n",
    "    dict_writer = csv.DictWriter(output_file, nomi_colonne)\n",
    "    dict_writer.writeheader()\n",
    "    dict_writer.writerows(table)"
   ]
  },
  {
   "cell_type": "code",
   "execution_count": null,
   "metadata": {},
   "outputs": [],
   "source": []
  }
 ],
 "metadata": {
  "kernelspec": {
   "display_name": "Python 3",
   "language": "python",
   "name": "python3"
  },
  "language_info": {
   "codemirror_mode": {
    "name": "ipython",
    "version": 3
   },
   "file_extension": ".py",
   "mimetype": "text/x-python",
   "name": "python",
   "nbconvert_exporter": "python",
   "pygments_lexer": "ipython3",
   "version": "3.6.9"
  }
 },
 "nbformat": 4,
 "nbformat_minor": 4
}
