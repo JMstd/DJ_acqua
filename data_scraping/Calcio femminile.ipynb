{
 "cells": [
  {
   "cell_type": "code",
   "execution_count": 3,
   "metadata": {},
   "outputs": [],
   "source": [
    "from selenium.webdriver import Chrome\n",
    "from selenium.webdriver.common.keys import Keys"
   ]
  },
  {
   "cell_type": "code",
   "execution_count": 4,
   "metadata": {},
   "outputs": [],
   "source": [
    "driver = Chrome()\n",
    "driver.get(\"https://femminile.football.it/ricerca.php\")"
   ]
  },
  {
   "cell_type": "code",
   "execution_count": 5,
   "metadata": {},
   "outputs": [],
   "source": [
    "lettera = driver.find_element_by_link_text(\"Q\").click()"
   ]
  },
  {
   "cell_type": "code",
   "execution_count": 6,
   "metadata": {},
   "outputs": [],
   "source": [
    "playersTable = driver.find_element_by_xpath(\"/html/body/table/tbody/tr/td/table/tbody/tr/td[2]/table/tbody/tr/td[2]/table[2]\")"
   ]
  },
  {
   "cell_type": "code",
   "execution_count": 7,
   "metadata": {},
   "outputs": [],
   "source": [
    "players = playersTable.find_elements_by_tag_name(\"a\")"
   ]
  },
  {
   "cell_type": "code",
   "execution_count": 8,
   "metadata": {},
   "outputs": [
    {
     "data": {
      "text/plain": [
       "[<selenium.webdriver.remote.webelement.WebElement (session=\"e0f364f9eff7f0ef0783e054563b113a\", element=\"68662090-0e62-42fd-a40e-01809d0a2a5e\")>,\n",
       " <selenium.webdriver.remote.webelement.WebElement (session=\"e0f364f9eff7f0ef0783e054563b113a\", element=\"f0576ac3-754a-4305-b910-c53f3939bf2a\")>,\n",
       " <selenium.webdriver.remote.webelement.WebElement (session=\"e0f364f9eff7f0ef0783e054563b113a\", element=\"5a9fc78a-e41a-4f92-8ee6-8fadd2afecd1\")>,\n",
       " <selenium.webdriver.remote.webelement.WebElement (session=\"e0f364f9eff7f0ef0783e054563b113a\", element=\"5a085c98-3cf7-48a9-8bc5-6d14515a7b9b\")>,\n",
       " <selenium.webdriver.remote.webelement.WebElement (session=\"e0f364f9eff7f0ef0783e054563b113a\", element=\"254cf046-290f-4ac4-8e68-aade90249fec\")>,\n",
       " <selenium.webdriver.remote.webelement.WebElement (session=\"e0f364f9eff7f0ef0783e054563b113a\", element=\"0482d44c-4f7a-40bd-a7c9-66a571db3035\")>,\n",
       " <selenium.webdriver.remote.webelement.WebElement (session=\"e0f364f9eff7f0ef0783e054563b113a\", element=\"7b5cad47-dd4f-4de7-9709-69e6a52f7201\")>,\n",
       " <selenium.webdriver.remote.webelement.WebElement (session=\"e0f364f9eff7f0ef0783e054563b113a\", element=\"8d037575-b84c-4caf-b887-f25d95324608\")>,\n",
       " <selenium.webdriver.remote.webelement.WebElement (session=\"e0f364f9eff7f0ef0783e054563b113a\", element=\"1760fdca-86a5-4e49-93be-97354aa91275\")>,\n",
       " <selenium.webdriver.remote.webelement.WebElement (session=\"e0f364f9eff7f0ef0783e054563b113a\", element=\"59a41c8d-d068-4215-938b-2609ca695d13\")>,\n",
       " <selenium.webdriver.remote.webelement.WebElement (session=\"e0f364f9eff7f0ef0783e054563b113a\", element=\"87e88531-8090-45fe-879b-94baa930ba52\")>,\n",
       " <selenium.webdriver.remote.webelement.WebElement (session=\"e0f364f9eff7f0ef0783e054563b113a\", element=\"7206b4a2-ef67-4b0a-aaf8-43076d16f1cb\")>,\n",
       " <selenium.webdriver.remote.webelement.WebElement (session=\"e0f364f9eff7f0ef0783e054563b113a\", element=\"84f76677-2460-46f1-aada-555f272b1a98\")>,\n",
       " <selenium.webdriver.remote.webelement.WebElement (session=\"e0f364f9eff7f0ef0783e054563b113a\", element=\"760bcb98-0d67-4f0e-a354-b6f7ccee9ec9\")>,\n",
       " <selenium.webdriver.remote.webelement.WebElement (session=\"e0f364f9eff7f0ef0783e054563b113a\", element=\"5aa1e31c-0c50-4c28-8aa8-7c9b284bb008\")>,\n",
       " <selenium.webdriver.remote.webelement.WebElement (session=\"e0f364f9eff7f0ef0783e054563b113a\", element=\"359beaa1-ea55-4324-9c78-233ee86e3b26\")>,\n",
       " <selenium.webdriver.remote.webelement.WebElement (session=\"e0f364f9eff7f0ef0783e054563b113a\", element=\"61ff5783-7e4a-423a-bd10-f2bb18fdf173\")>,\n",
       " <selenium.webdriver.remote.webelement.WebElement (session=\"e0f364f9eff7f0ef0783e054563b113a\", element=\"4c86dc06-6c46-423a-a17d-6b64643125ee\")>]"
      ]
     },
     "execution_count": 8,
     "metadata": {},
     "output_type": "execute_result"
    }
   ],
   "source": [
    "players"
   ]
  },
  {
   "cell_type": "code",
   "execution_count": 9,
   "metadata": {
    "scrolled": true
   },
   "outputs": [
    {
     "name": "stdout",
     "output_type": "stream",
     "text": [
      "QAFOKU MARTINA (4) [nato a il 28/11/2000 ]\n",
      "QUADRELLI SARA (57) [nato a Cattolica il 28/08/1997 ]\n",
      "QUAGGIOTTO ELENA (57) [nato a il 30/04/1992 ]\n",
      "QUAGLIA FRANCESCA (57) [nato a Padova il 13/04/1996 ]\n",
      "QUAGLIOTTO JESSICA (57) [nato a il 16/03/1993 ]\n",
      "QUARANTA MARTINA (57) [nato a il 19/05/1995 ]\n",
      "QUARESIMA MARA (57) [nato a il 15/04/2002 ]\n",
      "QUARTICELLI VALENTINA (57) [nato a Roma il 20/02/1990 ]\n",
      "QUARTO FEDERICA (57) [nato a il 13/04/1992 ]\n",
      "QUARTULLO FEDERICA (57) [nato a il 20/06/1991 ]\n",
      "QUATTROCCHI FRANCESCA (57) [nato a Palermo il 03/08/1988 ]\n",
      "QUAZZICO FRANCESCA (57) [nato a Taranto il 07/05/2001 ]\n",
      "QUERCIA MARZIA (57) [nato a il 16/09/1980 ]\n",
      "QUERZOLA LAURA (57) [nato a il 20/08/1991 ]\n",
      "QUIN JENNIFER (57) [nato a il ]\n",
      "QUINTO MICHELINA (57) [nato a il 30/03/1988 ]\n",
      "QUISTINI VALENTINA (57) [nato a il 30/11/1985 ]\n",
      "QUITADAMO SONIA (57) [nato a il 10/10/1985 ]\n"
     ]
    }
   ],
   "source": [
    "for player in players:\n",
    "    print(player.text)"
   ]
  },
  {
   "cell_type": "code",
   "execution_count": null,
   "metadata": {},
   "outputs": [],
   "source": []
  },
  {
   "cell_type": "markdown",
   "metadata": {},
   "source": [
    "## Espressioni regolari\n",
    "per estrarre le informazioni da queste stringhe uso le espressioni regolari\n",
    "\n",
    "Questo è il [sito](https://www.python.it/doc/howto/Regex/regex-it/regex-it.html) dove si trova la documentazione\n",
    "per testare le proprie espressioni regolare usare il [test online](https://regexr.com/)"
   ]
  },
  {
   "cell_type": "code",
   "execution_count": 10,
   "metadata": {},
   "outputs": [
    {
     "name": "stdout",
     "output_type": "stream",
     "text": [
      "QAFOKU MARTINA\n",
      "28/11/2000\n",
      "QUADRELLI SARA\n",
      "28/08/1997\n",
      "QUAGGIOTTO ELENA\n",
      "30/04/1992\n",
      "QUAGLIA FRANCESCA\n",
      "13/04/1996\n",
      "QUAGLIOTTO JESSICA\n",
      "16/03/1993\n",
      "QUARANTA MARTINA\n",
      "19/05/1995\n",
      "QUARESIMA MARA\n",
      "15/04/2002\n",
      "QUARTICELLI VALENTINA\n",
      "20/02/1990\n",
      "QUARTO FEDERICA\n",
      "13/04/1992\n",
      "QUARTULLO FEDERICA\n",
      "20/06/1991\n",
      "QUATTROCCHI FRANCESCA\n",
      "03/08/1988\n",
      "QUAZZICO FRANCESCA\n",
      "07/05/2001\n",
      "QUERCIA MARZIA\n",
      "16/09/1980\n",
      "QUERZOLA LAURA\n",
      "20/08/1991\n",
      "QUIN JENNIFER\n",
      "nessuna data\n",
      "QUINTO MICHELINA\n",
      "30/03/1988\n",
      "QUISTINI VALENTINA\n",
      "30/11/1985\n",
      "QUITADAMO SONIA\n",
      "10/10/1985\n"
     ]
    }
   ],
   "source": [
    "import re\n",
    "\n",
    "nome    = re.compile(\"[A-Z]+\\s[A-Z]+\")\n",
    "nascita = re.compile(\"[0-9]{2}\\/[0-9]{2}\\/[0-9]{4}\")\n",
    "\n",
    "for playerRow in players:\n",
    "    n=nome.search(playerRow.text)\n",
    "    d=nascita.search(playerRow.text)\n",
    "    if n:\n",
    "        print(n.group())\n",
    "    else:\n",
    "        print(\"nessun nome\")\n",
    "    if d:\n",
    "        print(d.group())\n",
    "    else:\n",
    "        print(\"nessuna data\")\n",
    "    "
   ]
  },
  {
   "cell_type": "code",
   "execution_count": 11,
   "metadata": {},
   "outputs": [],
   "source": [
    "driver.quit()"
   ]
  },
  {
   "cell_type": "code",
   "execution_count": null,
   "metadata": {},
   "outputs": [],
   "source": []
  }
 ],
 "metadata": {
  "kernelspec": {
   "display_name": "Python 3",
   "language": "python",
   "name": "python3"
  },
  "language_info": {
   "codemirror_mode": {
    "name": "ipython",
    "version": 3
   },
   "file_extension": ".py",
   "mimetype": "text/x-python",
   "name": "python",
   "nbconvert_exporter": "python",
   "pygments_lexer": "ipython3",
   "version": "3.6.9"
  }
 },
 "nbformat": 4,
 "nbformat_minor": 2
}
