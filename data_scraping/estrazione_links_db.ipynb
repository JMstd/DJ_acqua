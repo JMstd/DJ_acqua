{
 "cells": [
  {
   "cell_type": "markdown",
   "metadata": {},
   "source": [
    "Questa parte serve ad estrarre i vari link delle pagine con i db dal sito arpat\n",
    "\n",
    "I link vengono estratti ed esportati in un file json"
   ]
  },
  {
   "cell_type": "code",
   "execution_count": 1,
   "metadata": {},
   "outputs": [],
   "source": [
    "from selenium import webdriver                         # import the webdriver API \n",
    "from selenium.webdriver.common.keys import Keys        # import the keys of the keyboard such as RETURNS, F1, ALT, ...\n",
    "import re                                              # import regular expression\n",
    "\n",
    "driver = webdriver.Firefox()                           # run the browser"
   ]
  },
  {
   "cell_type": "code",
   "execution_count": 2,
   "metadata": {},
   "outputs": [],
   "source": [
    "def getLinks():\n",
    "    # parameters\n",
    "    url         = 'http://sira.arpat.toscana.it/sira/acqua.php'\n",
    "    xpath       = \"/html/body/div[2]/div/div[2]/li[1]/ul\"\n",
    "    dataLinks = [] # definisco una lista vuota dove andrò ad inserire i link delle banche dati     \n",
    "    \n",
    "    driver.get(url)  # get the web page\n",
    "\n",
    "    tabella = driver.find_element_by_xpath(xpath)     # seleziono l'elemento tabella contenente i link\n",
    "    \n",
    "    # seleziono tutti i tag 'a' contenuti in quel \"ul\" e aventi l'attributo \"target = '_blank'\"\n",
    "    links = tabella.find_elements_by_css_selector(\"a[target='_blank']\")\n",
    "    \n",
    "    for link in links:\n",
    "        link = link.get_attribute('href')\n",
    "        dataLinks.append({'link': link})            # assegna i valori a dataLinks\n",
    "        \n",
    "    return dataLinks\n"
   ]
  },
  {
   "cell_type": "code",
   "execution_count": 3,
   "metadata": {},
   "outputs": [
    {
     "name": "stdout",
     "output_type": "stream",
     "text": [
      "[{'link': 'http://sira.arpat.toscana.it/apex2/f?p=QUALACQUA_MAS'}, {'link': 'http://sira.arpat.toscana.it/apex2/f?p=QUALACQUA_MAT'}, {'link': 'http://sira.arpat.toscana.it/apex2/f?p=QUALACQUA_MAR'}, {'link': 'http://sira.arpat.toscana.it/apex2/f?p=QUALACQUA_POT'}, {'link': 'http://sira.arpat.toscana.it/apex2/f?p=QUALACQUA_VTP'}, {'link': 'http://sira.arpat.toscana.it/apex2/f?p=QUALACQUA_VTM'}, {'link': 'http://sira.arpat.toscana.it/apex2/f?p=QUALACQUA_BAL'}, {'link': 'http://sira.arpat.toscana.it/apex2/f?p=QUALACQUA_NIT'}, {'link': 'http://sira.arpat.toscana.it/apex2/f?p=QUALACQUA_FIT'}]\n"
     ]
    }
   ],
   "source": [
    "# testo la funzione e vedo il risultato a video getLinks\n",
    "dataLinks = getLinks()\n",
    "print(dataLinks)"
   ]
  },
  {
   "cell_type": "markdown",
   "metadata": {},
   "source": [
    "Salva il contenuto di dataLinks in un file chiamato \"dataLinks.json\" con indentazione = 3"
   ]
  },
  {
   "cell_type": "code",
   "execution_count": 4,
   "metadata": {},
   "outputs": [],
   "source": [
    "import json\n",
    "with open(\"dataLinks.json\", \"w\") as outfile:\n",
    "    json.dump(dataLinks, outfile, indent=3)    #indentazione con 3 spazi"
   ]
  },
  {
   "cell_type": "code",
   "execution_count": 5,
   "metadata": {},
   "outputs": [],
   "source": [
    "driver.quit()"
   ]
  },
  {
   "cell_type": "code",
   "execution_count": null,
   "metadata": {},
   "outputs": [],
   "source": []
  }
 ],
 "metadata": {
  "kernelspec": {
   "display_name": "Python 3",
   "language": "python",
   "name": "python3"
  },
  "language_info": {
   "codemirror_mode": {
    "name": "ipython",
    "version": 3
   },
   "file_extension": ".py",
   "mimetype": "text/x-python",
   "name": "python",
   "nbconvert_exporter": "python",
   "pygments_lexer": "ipython3",
   "version": "3.6.9"
  }
 },
 "nbformat": 4,
 "nbformat_minor": 2
}
